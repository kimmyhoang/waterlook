{
 "cells": [
  {
   "cell_type": "markdown",
   "id": "cefdc1b8-49d1-4f6d-888c-d17a2c03742f",
   "metadata": {},
   "source": [
    "# Training Models Using Feature Set 2\n",
    "Feature set 2 - ['Soil Moisture', 'Temperature', 'Soil Humidity', 'Air temperature (C)', 'Wind speed (Km/h)', 'Pressure (KPa)'] "
   ]
  },
  {
   "cell_type": "markdown",
   "id": "520c40fc-05d0-4fb6-bb9d-6fc80f7b8d1c",
   "metadata": {},
   "source": [
    "## Data Preprocessing"
   ]
  },
  {
   "cell_type": "code",
   "execution_count": 26,
   "id": "c775f865-8462-4c76-8b1a-94db6afd4091",
   "metadata": {},
   "outputs": [
    {
     "data": {
      "text/html": [
       "<div>\n",
       "<style scoped>\n",
       "    .dataframe tbody tr th:only-of-type {\n",
       "        vertical-align: middle;\n",
       "    }\n",
       "\n",
       "    .dataframe tbody tr th {\n",
       "        vertical-align: top;\n",
       "    }\n",
       "\n",
       "    .dataframe thead th {\n",
       "        text-align: right;\n",
       "    }\n",
       "</style>\n",
       "<table border=\"1\" class=\"dataframe\">\n",
       "  <thead>\n",
       "    <tr style=\"text-align: right;\">\n",
       "      <th></th>\n",
       "      <th>Soil Moisture</th>\n",
       "      <th>Temperature</th>\n",
       "      <th>Soil Humidity</th>\n",
       "      <th>Time</th>\n",
       "      <th>Air temperature (C)</th>\n",
       "      <th>Wind speed (Km/h)</th>\n",
       "      <th>Air humidity (%)</th>\n",
       "      <th>Wind gust (Km/h)</th>\n",
       "      <th>Pressure (KPa)</th>\n",
       "      <th>ph</th>\n",
       "      <th>rainfall</th>\n",
       "      <th>N</th>\n",
       "      <th>P</th>\n",
       "      <th>K</th>\n",
       "      <th>Status</th>\n",
       "    </tr>\n",
       "  </thead>\n",
       "  <tbody>\n",
       "    <tr>\n",
       "      <th>0</th>\n",
       "      <td>54</td>\n",
       "      <td>22</td>\n",
       "      <td>70</td>\n",
       "      <td>21</td>\n",
       "      <td>19.52</td>\n",
       "      <td>2.13</td>\n",
       "      <td>55.04</td>\n",
       "      <td>6.30</td>\n",
       "      <td>101.50</td>\n",
       "      <td>6.502985</td>\n",
       "      <td>202.935536</td>\n",
       "      <td>90.0</td>\n",
       "      <td>42.0</td>\n",
       "      <td>43.0</td>\n",
       "      <td>ON</td>\n",
       "    </tr>\n",
       "    <tr>\n",
       "      <th>1</th>\n",
       "      <td>12</td>\n",
       "      <td>20</td>\n",
       "      <td>40</td>\n",
       "      <td>104</td>\n",
       "      <td>19.49</td>\n",
       "      <td>2.01</td>\n",
       "      <td>55.17</td>\n",
       "      <td>10.46</td>\n",
       "      <td>101.50</td>\n",
       "      <td>7.038096</td>\n",
       "      <td>226.655537</td>\n",
       "      <td>85.0</td>\n",
       "      <td>58.0</td>\n",
       "      <td>41.0</td>\n",
       "      <td>OFF</td>\n",
       "    </tr>\n",
       "    <tr>\n",
       "      <th>2</th>\n",
       "      <td>34</td>\n",
       "      <td>26</td>\n",
       "      <td>35</td>\n",
       "      <td>62</td>\n",
       "      <td>19.47</td>\n",
       "      <td>1.90</td>\n",
       "      <td>55.30</td>\n",
       "      <td>14.63</td>\n",
       "      <td>101.51</td>\n",
       "      <td>7.840207</td>\n",
       "      <td>263.964248</td>\n",
       "      <td>60.0</td>\n",
       "      <td>55.0</td>\n",
       "      <td>44.0</td>\n",
       "      <td>ON</td>\n",
       "    </tr>\n",
       "    <tr>\n",
       "      <th>3</th>\n",
       "      <td>7</td>\n",
       "      <td>44</td>\n",
       "      <td>44</td>\n",
       "      <td>93</td>\n",
       "      <td>19.54</td>\n",
       "      <td>2.28</td>\n",
       "      <td>54.20</td>\n",
       "      <td>16.08</td>\n",
       "      <td>101.51</td>\n",
       "      <td>6.980401</td>\n",
       "      <td>242.864034</td>\n",
       "      <td>74.0</td>\n",
       "      <td>35.0</td>\n",
       "      <td>40.0</td>\n",
       "      <td>OFF</td>\n",
       "    </tr>\n",
       "    <tr>\n",
       "      <th>4</th>\n",
       "      <td>50</td>\n",
       "      <td>38</td>\n",
       "      <td>23</td>\n",
       "      <td>92</td>\n",
       "      <td>19.61</td>\n",
       "      <td>2.66</td>\n",
       "      <td>53.09</td>\n",
       "      <td>17.52</td>\n",
       "      <td>101.51</td>\n",
       "      <td>7.628473</td>\n",
       "      <td>262.717340</td>\n",
       "      <td>78.0</td>\n",
       "      <td>42.0</td>\n",
       "      <td>42.0</td>\n",
       "      <td>OFF</td>\n",
       "    </tr>\n",
       "  </tbody>\n",
       "</table>\n",
       "</div>"
      ],
      "text/plain": [
       "   Soil Moisture  Temperature  Soil Humidity  Time  Air temperature (C)  \\\n",
       "0             54           22             70    21                19.52   \n",
       "1             12           20             40   104                19.49   \n",
       "2             34           26             35    62                19.47   \n",
       "3              7           44             44    93                19.54   \n",
       "4             50           38             23    92                19.61   \n",
       "\n",
       "   Wind speed (Km/h)  Air humidity (%)  Wind gust (Km/h)  Pressure (KPa)  \\\n",
       "0               2.13             55.04              6.30          101.50   \n",
       "1               2.01             55.17             10.46          101.50   \n",
       "2               1.90             55.30             14.63          101.51   \n",
       "3               2.28             54.20             16.08          101.51   \n",
       "4               2.66             53.09             17.52          101.51   \n",
       "\n",
       "         ph    rainfall     N     P     K Status  \n",
       "0  6.502985  202.935536  90.0  42.0  43.0     ON  \n",
       "1  7.038096  226.655537  85.0  58.0  41.0    OFF  \n",
       "2  7.840207  263.964248  60.0  55.0  44.0     ON  \n",
       "3  6.980401  242.864034  74.0  35.0  40.0    OFF  \n",
       "4  7.628473  262.717340  78.0  42.0  42.0    OFF  "
      ]
     },
     "execution_count": 26,
     "metadata": {},
     "output_type": "execute_result"
    }
   ],
   "source": [
    "import pandas as pd\n",
    "import numpy as np\n",
    "import matplotlib.pyplot as plt\n",
    "import seaborn as sns\n",
    "df = pd.read_csv('soil_data.csv')\n",
    "df.head()"
   ]
  },
  {
   "cell_type": "code",
   "execution_count": 28,
   "id": "17e0ef5b-5406-409f-bd61-e5dfce9d09fa",
   "metadata": {},
   "outputs": [
    {
     "data": {
      "text/plain": [
       "Index(['Soil Moisture', 'Temperature', 'Soil Humidity', 'Time',\n",
       "       'Air temperature (C)', 'Wind speed (Km/h)', 'Air humidity (%)',\n",
       "       'Wind gust (Km/h)', 'Pressure (KPa)', 'ph', 'rainfall', 'N', 'P', 'K',\n",
       "       'Status'],\n",
       "      dtype='object')"
      ]
     },
     "execution_count": 28,
     "metadata": {},
     "output_type": "execute_result"
    }
   ],
   "source": [
    "df.columns"
   ]
  },
  {
   "cell_type": "code",
   "execution_count": 30,
   "id": "6f830040-f898-4970-bf03-91a3f5e1e691",
   "metadata": {},
   "outputs": [],
   "source": [
    "#various feature sets were determined in the process of feature engineering\n",
    "selectkbest_feature_cols = ['Soil Moisture', 'Temperature', 'Soil Humidity', 'Air humidity (%)']\n",
    "\n",
    "vif_feature_cols = ['Soil Moisture', 'Temperature', 'Soil Humidity', 'Air humidity (%)', 'Wind gust (Km/h)']\n",
    "\n",
    "linear_regression_feature_cols = ['Soil Moisture', 'Temperature', 'Soil Humidity', 'Air temperature (C)', 'Wind speed (Km/h)', 'Pressure (KPa)'] "
   ]
  },
  {
   "cell_type": "code",
   "execution_count": 32,
   "id": "125c7696-14c4-4576-a0fc-8f89017b5e4d",
   "metadata": {},
   "outputs": [],
   "source": [
    "df = df.dropna(axis=0, subset=['Air temperature (C)'])\\\n",
    "    .drop(['N','P','K','rainfall','ph'], axis = 1) #dropped all columns with fewer than a 23995 records"
   ]
  },
  {
   "cell_type": "code",
   "execution_count": 34,
   "id": "a4036e55-8656-4f57-8e36-ee106ac67eee",
   "metadata": {},
   "outputs": [
    {
     "name": "stdout",
     "output_type": "stream",
     "text": [
      "<class 'pandas.core.frame.DataFrame'>\n",
      "Index: 23995 entries, 0 to 26300\n",
      "Data columns (total 10 columns):\n",
      " #   Column               Non-Null Count  Dtype  \n",
      "---  ------               --------------  -----  \n",
      " 0   Soil Moisture        23995 non-null  int64  \n",
      " 1   Temperature          23995 non-null  int64  \n",
      " 2   Soil Humidity        23995 non-null  int64  \n",
      " 3   Time                 23995 non-null  int64  \n",
      " 4   Air temperature (C)  23995 non-null  float64\n",
      " 5   Wind speed (Km/h)    23995 non-null  float64\n",
      " 6   Air humidity (%)     23995 non-null  float64\n",
      " 7   Wind gust (Km/h)     23995 non-null  float64\n",
      " 8   Pressure (KPa)       23995 non-null  float64\n",
      " 9   Status               23995 non-null  object \n",
      "dtypes: float64(5), int64(4), object(1)\n",
      "memory usage: 2.0+ MB\n"
     ]
    }
   ],
   "source": [
    "df.info()"
   ]
  },
  {
   "cell_type": "code",
   "execution_count": 36,
   "id": "d51736d5-bec1-45a9-b8e3-d8900f05c445",
   "metadata": {},
   "outputs": [],
   "source": [
    "from sklearn.model_selection import train_test_split\n",
    "from sklearn import metrics"
   ]
  },
  {
   "cell_type": "code",
   "execution_count": 38,
   "id": "f933f48c-0801-4909-a2cc-6289c02fed8c",
   "metadata": {},
   "outputs": [],
   "source": [
    "feature_cols = linear_regression_feature_cols\n",
    "X = df[feature_cols]\n",
    "y = df.Status.map({'OFF': 0, 'ON': 1})\n",
    "X_train, X_test, y_train, y_test = train_test_split(X, y, test_size=0.3, random_state=42)"
   ]
  },
  {
   "cell_type": "markdown",
   "id": "74ca87d5-8a71-4964-8406-c9dcca8d7c2f",
   "metadata": {},
   "source": [
    "### Logistic Regression\n",
    "pros\n",
    "- Doesn't require high computation\n",
    "\n",
    "cons\n",
    "- Vulnerable to overfitting "
   ]
  },
  {
   "cell_type": "markdown",
   "id": "e04553fa-823e-4483-9e83-e23bc24e0f7e",
   "metadata": {},
   "source": [
    "#### Training Model"
   ]
  },
  {
   "cell_type": "code",
   "execution_count": 41,
   "id": "7d8d9f87-eede-4d98-8d52-72e6b92d2635",
   "metadata": {},
   "outputs": [],
   "source": [
    "from sklearn.linear_model import LogisticRegression\n",
    "\n",
    "logreg = LogisticRegression(random_state=16)\n",
    "logreg.fit(X_train, y_train)\n",
    "\n",
    "y_pred = logreg.predict(X_test)"
   ]
  },
  {
   "cell_type": "markdown",
   "id": "bcbfbece-1c48-4cd0-a9b9-3025d0672e40",
   "metadata": {},
   "source": [
    "#### Training Set Evaluations"
   ]
  },
  {
   "cell_type": "code",
   "execution_count": 107,
   "id": "557f9c1e-b701-421c-8b65-d9ad8aa69f5f",
   "metadata": {},
   "outputs": [],
   "source": [
    "def perf_metrics(model_type, ac, pr, re, f1):\n",
    "    print(f\"{model_type} Performance Metrics:\")\n",
    "    print(f\"Accuracy : {ac:.4f}\")\n",
    "    print(f\"Precision: {pr:.4f}\")\n",
    "    print(f\"Recall   : {re:.4f}\")\n",
    "    print(f\"F1-Score : {f1:.4f}\")"
   ]
  },
  {
   "cell_type": "code",
   "execution_count": 117,
   "id": "3290f854-8168-42e4-9922-a9afe7d4f45b",
   "metadata": {},
   "outputs": [
    {
     "name": "stdout",
     "output_type": "stream",
     "text": [
      "Logistic Regression Performance Metrics:\n",
      "Accuracy : 0.7018\n",
      "Precision: 0.7124\n",
      "Recall   : 0.7507\n",
      "F1-Score : 0.7311\n"
     ]
    }
   ],
   "source": [
    "y_train_pred_logreg = logreg.predict(X_train)\n",
    "\n",
    "train_accuracy_logreg = metrics.accuracy_score(y_train, y_train_pred_logreg)\n",
    "train_precision_logreg = metrics.precision_score(y_train, y_train_pred_logreg)\n",
    "train_recall_logreg = metrics.recall_score(y_train, y_train_pred_logreg)\n",
    "train_f1_logreg = metrics.f1_score(y_train, y_train_pred_logreg)\n",
    "\n",
    "perf_metrics(\"Logistic Regression\", train_accuracy_logreg, train_precision_logreg, train_recall_logreg, train_f1_logreg)"
   ]
  },
  {
   "cell_type": "markdown",
   "id": "e606bf2e-103a-4f31-b49b-ee2bb8e45004",
   "metadata": {},
   "source": [
    "#### Test Set Evaluations"
   ]
  },
  {
   "cell_type": "code",
   "execution_count": 109,
   "id": "0743590d-699a-4a55-930a-a6479367b99c",
   "metadata": {},
   "outputs": [
    {
     "name": "stdout",
     "output_type": "stream",
     "text": [
      "Logistic Regression Performance Metrics:\n",
      "Accuracy : 0.7016\n",
      "Precision: 0.7104\n",
      "Recall   : 0.7599\n",
      "F1-Score : 0.7343\n"
     ]
    }
   ],
   "source": [
    "y_pred_logreg = logreg.predict(X_test)\n",
    "\n",
    "accuracy_logreg = metrics.accuracy_score(y_test, y_pred_logreg)\n",
    "precision_logreg = metrics.precision_score(y_test, y_pred_logreg)\n",
    "recall_logreg = metrics.recall_score(y_test, y_pred_logreg)\n",
    "f1_logreg = metrics.f1_score(y_test, y_pred_logreg)\n",
    "\n",
    "perf_metrics(\"Logistic Regression\", accuracy_logreg, precision_logreg, recall_logreg, f1_logreg)"
   ]
  },
  {
   "cell_type": "markdown",
   "id": "c28cca3a-30ac-4334-aa8a-2db8c64f2cc1",
   "metadata": {},
   "source": [
    "#### Classification Report"
   ]
  },
  {
   "cell_type": "code",
   "execution_count": 92,
   "id": "9b87f12b-f27a-4a84-ba69-fc8f5c258336",
   "metadata": {},
   "outputs": [
    {
     "name": "stdout",
     "output_type": "stream",
     "text": [
      "              precision    recall  f1-score   support\n",
      "\n",
      "         OFF       0.69      0.63      0.66      3293\n",
      "          ON       0.71      0.76      0.73      3906\n",
      "\n",
      "    accuracy                           0.70      7199\n",
      "   macro avg       0.70      0.70      0.70      7199\n",
      "weighted avg       0.70      0.70      0.70      7199\n",
      "\n"
     ]
    }
   ],
   "source": [
    "target_names = ['OFF', 'ON']\n",
    "print(metrics.classification_report(y_test, y_pred_logreg, target_names=target_names))"
   ]
  },
  {
   "cell_type": "markdown",
   "id": "fb00bec0-f9a3-4b02-b178-665834112f20",
   "metadata": {},
   "source": [
    "#### Confusion Matrix"
   ]
  },
  {
   "cell_type": "code",
   "execution_count": 129,
   "id": "62852ceb-ceb2-4c36-9eb6-f258df1d510c",
   "metadata": {},
   "outputs": [
    {
     "data": {
      "text/plain": [
       "Text(0.5, 23.52222222222222, 'Predicted label')"
      ]
     },
     "execution_count": 129,
     "metadata": {},
     "output_type": "execute_result"
    },
    {
     "data": {
      "image/png": "[encoded data removed]",
      "text/plain": [
       "<Figure size 640x480 with 2 Axes>"
      ]
     },
     "metadata": {},
     "output_type": "display_data"
    }
   ],
   "source": [
    "class_names=[0,1] \n",
    "fig, ax = plt.subplots()\n",
    "tick_marks = np.arange(len(class_names))\n",
    "plt.xticks(tick_marks, class_names)\n",
    "plt.yticks(tick_marks, class_names)\n",
    "# create heatmap\n",
    "sns.heatmap(pd.DataFrame(cnf_matrix), annot=True, cmap=\"Oranges\" ,fmt='g')\n",
    "plt.tight_layout()\n",
    "plt.title('Confusion Matrix - Logistic Regression', y=1.1)\n",
    "plt.ylabel('Actual label')\n",
    "plt.xlabel('Predicted label')"
   ]
  },
  {
   "cell_type": "markdown",
   "id": "cf42aa89-18df-43ab-b5ad-24d39b2b2a12",
   "metadata": {},
   "source": [
    "#### ROC Curve"
   ]
  },
  {
   "cell_type": "code",
   "execution_count": 103,
   "id": "1faccf10-aef8-47e1-8fd2-ebdbdc0013a0",
   "metadata": {},
   "outputs": [
    {
     "data": {
      "image/png": "[encoded data removed]",
      "text/plain": [
       "<Figure size 640x480 with 1 Axes>"
      ]
     },
     "metadata": {},
     "output_type": "display_data"
    }
   ],
   "source": [
    "y_pred_proba = logreg.predict_proba(X_test)[::,1]\n",
    "fpr_logreg, tpr_logreg, thresholds_logreg = metrics.roc_curve(y_test, y_pred_proba)\n",
    "roc_auc_logreg = metrics.auc(fpr_logreg, tpr_logreg)\n",
    "\n",
    "plt.plot(fpr_logreg, tpr_logreg, color='darkorange', lw=2, label=f'Logistic Regression ROC curve (AUC = {roc_auc_logreg:.2f})')\n",
    "plt.plot([0,1], [0,1], color='navy', lw=2, linestyle='--')\n",
    "plt.xlabel('False Positive Rate')\n",
    "plt.ylabel('True Positive Rate')\n",
    "plt.title('Receiver Operating Characteristic (ROC) Curve - Logistic Regression')\n",
    "plt.legend(loc=\"lower right\")\n",
    "plt.show()\n"
   ]
  },
  {
   "cell_type": "markdown",
   "id": "510ba52c-ae0b-4d07-b91d-13e0f576ac51",
   "metadata": {},
   "source": [
    "### Decision Trees\n",
    "pros\n",
    "- Easy to interpret and visualize\n",
    "- Easily captures non-linear patterns\n",
    "- No assumptions about distribution (non-parametric nature)\n",
    "\n",
    "cons\n",
    "- Sensitive to noisy data and can overfit\n",
    "- Biaseed with imbalanced datasets"
   ]
  },
  {
   "cell_type": "code",
   "execution_count": 331,
   "id": "7c94e721-376c-4985-8c2d-0d7ccd347c96",
   "metadata": {},
   "outputs": [],
   "source": [
    "from sklearn.tree import DecisionTreeClassifier"
   ]
  },
  {
   "cell_type": "code",
   "execution_count": 332,
   "id": "cbc3b8c8-11d1-448d-a270-e9d430ebc706",
   "metadata": {},
   "outputs": [
    {
     "name": "stdout",
     "output_type": "stream",
     "text": [
      "Accuracy: 0.6535629948603973\n"
     ]
    }
   ],
   "source": [
    "clf = DecisionTreeClassifier()\n",
    "\n",
    "clf = clf.fit(X_train,y_train)\n",
    "\n",
    "y_pred = clf.predict(X_test)\n",
    "print(\"Accuracy:\",metrics.accuracy_score(y_test, y_pred))\n"
   ]
  },
  {
   "cell_type": "code",
   "execution_count": 333,
   "id": "778084a7-4400-4b00-8dd9-41f07c187019",
   "metadata": {},
   "outputs": [
    {
     "name": "stdout",
     "output_type": "stream",
     "text": [
      "Requirement already satisfied: graphviz in c:\\users\\kimbe\\anaconda3\\lib\\site-packages (0.20.3)\n",
      "Note: you may need to restart the kernel to use updated packages.\n"
     ]
    }
   ],
   "source": [
    "pip install graphviz"
   ]
  },
  {
   "cell_type": "code",
   "execution_count": 334,
   "id": "6f67df67-90bd-45b9-a7d4-e7c007803510",
   "metadata": {},
   "outputs": [
    {
     "name": "stdout",
     "output_type": "stream",
     "text": [
      "Requirement already satisfied: pydotplus in c:\\users\\kimbe\\anaconda3\\lib\\site-packages (2.0.2)\n",
      "Requirement already satisfied: pyparsing>=2.0.1 in c:\\users\\kimbe\\anaconda3\\lib\\site-packages (from pydotplus) (3.0.9)\n",
      "Note: you may need to restart the kernel to use updated packages.\n"
     ]
    }
   ],
   "source": [
    "pip install pydotplus"
   ]
  },
  {
   "cell_type": "code",
   "execution_count": 335,
   "id": "97d3754a-2d0e-4a62-8ceb-e933b3af0b9b",
   "metadata": {},
   "outputs": [],
   "source": [
    "# from sklearn.tree import export_graphviz\n",
    "# from six import StringIO \n",
    "# from IPython.display import Image  \n",
    "# import pydotplus\n",
    "\n",
    "# dot_data = StringIO()\n",
    "# export_graphviz(clf, out_file=dot_data,  \n",
    "#                 filled=True, rounded=True,\n",
    "#                 special_characters=True,feature_names = feature_cols,class_names=['0','1'])\n",
    "# graph = pydotplus.graph_from_dot_data(dot_data.getvalue())  \n",
    "# graph.write_png('tree.png')\n",
    "# Image(graph.create_png())\n"
   ]
  },
  {
   "cell_type": "code",
   "execution_count": 336,
   "id": "6e536339-c056-4b1a-a714-a58a60c991fc",
   "metadata": {},
   "outputs": [
    {
     "name": "stdout",
     "output_type": "stream",
     "text": [
      "Accuracy: 0.7103764411723851\n"
     ]
    }
   ],
   "source": [
    "# Can do pre-pruning by specifying max depth and also choose other attribute selections\n",
    "clf = DecisionTreeClassifier(criterion=\"entropy\", max_depth=3)\n",
    "\n",
    "clf = clf.fit(X_train,y_train)\n",
    "y_pred = clf.predict(X_test)\n",
    "\n",
    "print(\"Accuracy:\",metrics.accuracy_score(y_test, y_pred))"
   ]
  },
  {
   "cell_type": "code",
   "execution_count": null,
   "id": "3eb4b4e2-787b-4d04-aeb8-072e8f5e2038",
   "metadata": {},
   "outputs": [],
   "source": []
  },
  {
   "cell_type": "code",
   "execution_count": null,
   "id": "1baf22dd-72af-4608-a304-0f9b27880282",
   "metadata": {},
   "outputs": [],
   "source": []
  },
  {
   "cell_type": "markdown",
   "id": "7ee1ffb5-dc1a-47cf-9d6d-7c7b354177cc",
   "metadata": {},
   "source": [
    "### Naive Bayes"
   ]
  },
  {
   "cell_type": "code",
   "execution_count": 166,
   "id": "ffc5ae4d-a891-4cd6-8af6-e29bcf554a2b",
   "metadata": {},
   "outputs": [],
   "source": [
    "from sklearn.naive_bayes import GaussianNB"
   ]
  },
  {
   "cell_type": "markdown",
   "id": "be918101-caed-4681-b4ee-b141cda8ef09",
   "metadata": {},
   "source": [
    "#### Training Model"
   ]
  },
  {
   "cell_type": "code",
   "execution_count": 169,
   "id": "172436ab-f51a-4c59-95b4-bab4fee98d1f",
   "metadata": {},
   "outputs": [
    {
     "data": {
      "text/html": [
       "<style>#sk-container-id-2 {color: black;background-color: white;}#sk-container-id-2 pre{padding: 0;}#sk-container-id-2 div.sk-toggleable {background-color: white;}#sk-container-id-2 label.sk-toggleable__label {cursor: pointer;display: block;width: 100%;margin-bottom: 0;padding: 0.3em;box-sizing: border-box;text-align: center;}#sk-container-id-2 label.sk-toggleable__label-arrow:before {content: \"▸\";float: left;margin-right: 0.25em;color: #696969;}#sk-container-id-2 label.sk-toggleable__label-arrow:hover:before {color: black;}#sk-container-id-2 div.sk-estimator:hover label.sk-toggleable__label-arrow:before {color: black;}#sk-container-id-2 div.sk-toggleable__content {max-height: 0;max-width: 0;overflow: hidden;text-align: left;background-color: #f0f8ff;}#sk-container-id-2 div.sk-toggleable__content pre {margin: 0.2em;color: black;border-radius: 0.25em;background-color: #f0f8ff;}#sk-container-id-2 input.sk-toggleable__control:checked~div.sk-toggleable__content {max-height: 200px;max-width: 100%;overflow: auto;}#sk-container-id-2 input.sk-toggleable__control:checked~label.sk-toggleable__label-arrow:before {content: \"▾\";}#sk-container-id-2 div.sk-estimator input.sk-toggleable__control:checked~label.sk-toggleable__label {background-color: #d4ebff;}#sk-container-id-2 div.sk-label input.sk-toggleable__control:checked~label.sk-toggleable__label {background-color: #d4ebff;}#sk-container-id-2 input.sk-hidden--visually {border: 0;clip: rect(1px 1px 1px 1px);clip: rect(1px, 1px, 1px, 1px);height: 1px;margin: -1px;overflow: hidden;padding: 0;position: absolute;width: 1px;}#sk-container-id-2 div.sk-estimator {font-family: monospace;background-color: #f0f8ff;border: 1px dotted black;border-radius: 0.25em;box-sizing: border-box;margin-bottom: 0.5em;}#sk-container-id-2 div.sk-estimator:hover {background-color: #d4ebff;}#sk-container-id-2 div.sk-parallel-item::after {content: \"\";width: 100%;border-bottom: 1px solid gray;flex-grow: 1;}#sk-container-id-2 div.sk-label:hover label.sk-toggleable__label {background-color: #d4ebff;}#sk-container-id-2 div.sk-serial::before {content: \"\";position: absolute;border-left: 1px solid gray;box-sizing: border-box;top: 0;bottom: 0;left: 50%;z-index: 0;}#sk-container-id-2 div.sk-serial {display: flex;flex-direction: column;align-items: center;background-color: white;padding-right: 0.2em;padding-left: 0.2em;position: relative;}#sk-container-id-2 div.sk-item {position: relative;z-index: 1;}#sk-container-id-2 div.sk-parallel {display: flex;align-items: stretch;justify-content: center;background-color: white;position: relative;}#sk-container-id-2 div.sk-item::before, #sk-container-id-2 div.sk-parallel-item::before {content: \"\";position: absolute;border-left: 1px solid gray;box-sizing: border-box;top: 0;bottom: 0;left: 50%;z-index: -1;}#sk-container-id-2 div.sk-parallel-item {display: flex;flex-direction: column;z-index: 1;position: relative;background-color: white;}#sk-container-id-2 div.sk-parallel-item:first-child::after {align-self: flex-end;width: 50%;}#sk-container-id-2 div.sk-parallel-item:last-child::after {align-self: flex-start;width: 50%;}#sk-container-id-2 div.sk-parallel-item:only-child::after {width: 0;}#sk-container-id-2 div.sk-dashed-wrapped {border: 1px dashed gray;margin: 0 0.4em 0.5em 0.4em;box-sizing: border-box;padding-bottom: 0.4em;background-color: white;}#sk-container-id-2 div.sk-label label {font-family: monospace;font-weight: bold;display: inline-block;line-height: 1.2em;}#sk-container-id-2 div.sk-label-container {text-align: center;}#sk-container-id-2 div.sk-container {/* jupyter's `normalize.less` sets `[hidden] { display: none; }` but bootstrap.min.css set `[hidden] { display: none !important; }` so we also need the `!important` here to be able to override the default hidden behavior on the sphinx rendered scikit-learn.org. See: https://github.com/scikit-learn/scikit-learn/issues/21755 */display: inline-block !important;position: relative;}#sk-container-id-2 div.sk-text-repr-fallback {display: none;}</style><div id=\"sk-container-id-2\" class=\"sk-top-container\"><div class=\"sk-text-repr-fallback\"><pre>GaussianNB()</pre><b>In a Jupyter environment, please rerun this cell to show the HTML representation or trust the notebook. <br />On GitHub, the HTML representation is unable to render, please try loading this page with nbviewer.org.</b></div><div class=\"sk-container\" hidden><div class=\"sk-item\"><div class=\"sk-estimator sk-toggleable\"><input class=\"sk-toggleable__control sk-hidden--visually\" id=\"sk-estimator-id-2\" type=\"checkbox\" checked><label for=\"sk-estimator-id-2\" class=\"sk-toggleable__label sk-toggleable__label-arrow\">GaussianNB</label><div class=\"sk-toggleable__content\"><pre>GaussianNB()</pre></div></div></div></div></div>"
      ],
      "text/plain": [
       "GaussianNB()"
      ]
     },
     "execution_count": 169,
     "metadata": {},
     "output_type": "execute_result"
    }
   ],
   "source": [
    "nb = GaussianNB()\n",
    "nb.fit(X_train, y_train)"
   ]
  },
  {
   "cell_type": "markdown",
   "id": "6ed4b582-e593-4f8d-84b8-519d3b4ebf96",
   "metadata": {},
   "source": [
    "#### Training Set Evaluations"
   ]
  },
  {
   "cell_type": "code",
   "execution_count": 221,
   "id": "dd6eaa17-2934-418f-ba33-12858e150101",
   "metadata": {},
   "outputs": [
    {
     "name": "stdout",
     "output_type": "stream",
     "text": [
      "Naive Bayes Performance Metrics:\n",
      "Accuracy : 0.7018\n",
      "Precision: 0.7123\n",
      "Recall   : 0.7507\n",
      "F1-Score : 0.7310\n"
     ]
    }
   ],
   "source": [
    "y_train_pred_nb = nb.predict(X_train)\n",
    "\n",
    "train_accuracy_nb = metrics.accuracy_score(y_train, y_train_pred_nb)\n",
    "train_precision_nb = metrics.precision_score(y_train, y_train_pred_nb)\n",
    "train_recall_nb = metrics.recall_score(y_train, y_train_pred_nb)\n",
    "train_f1_nb = metrics.f1_score(y_train, y_train_pred_nb)\n",
    "\n",
    "perf_metrics(\"Naive Bayes\", train_accuracy_nb, train_precision_nb, train_recall_nb, train_f1_nb)"
   ]
  },
  {
   "cell_type": "markdown",
   "id": "876a7efc-cb1e-484b-8d88-003c8107999d",
   "metadata": {},
   "source": [
    "#### Test Set Evaluations"
   ]
  },
  {
   "cell_type": "code",
   "execution_count": 224,
   "id": "9ba6e996-8981-4593-ba43-b43b14af638f",
   "metadata": {},
   "outputs": [
    {
     "name": "stdout",
     "output_type": "stream",
     "text": [
      "Naive Bayes Performance Metrics:\n",
      "Accuracy : 0.7030\n",
      "Precision: 0.7118\n",
      "Recall   : 0.7606\n",
      "F1-Score : 0.7354\n"
     ]
    }
   ],
   "source": [
    "y_pred_nb = nb.predict(X_test)\n",
    "\n",
    "accuracy_nb = metrics.accuracy_score(y_test, y_pred_nb)\n",
    "precision_nb = metrics.precision_score(y_test, y_pred_nb)\n",
    "recall_nb = metrics.recall_score(y_test, y_pred_nb)\n",
    "f1_nb = metrics.f1_score(y_test, y_pred_nb)\n",
    "\n",
    "perf_metrics(\"Naive Bayes\", accuracy_nb, precision_nb, recall_nb, f1_nb)"
   ]
  },
  {
   "cell_type": "markdown",
   "id": "cf8a1d48-76ab-4fba-b3e4-25c9e50a986a",
   "metadata": {},
   "source": [
    "#### Classification Report"
   ]
  },
  {
   "cell_type": "code",
   "execution_count": 178,
   "id": "5fab3718-ee0e-4f84-9b8f-684750f8d752",
   "metadata": {},
   "outputs": [
    {
     "name": "stdout",
     "output_type": "stream",
     "text": [
      "              precision    recall  f1-score   support\n",
      "\n",
      "         OFF       0.69      0.63      0.66      3293\n",
      "          ON       0.71      0.76      0.74      3906\n",
      "\n",
      "    accuracy                           0.70      7199\n",
      "   macro avg       0.70      0.70      0.70      7199\n",
      "weighted avg       0.70      0.70      0.70      7199\n",
      "\n"
     ]
    }
   ],
   "source": [
    "#note - identical to logistic regression??\n",
    "target_names = ['OFF', 'ON']\n",
    "print(metrics.classification_report(y_test, y_pred_nb, target_names=target_names))"
   ]
  },
  {
   "cell_type": "code",
   "execution_count": 180,
   "id": "df9d864e-8f7f-4fb7-8d26-ae299c53955f",
   "metadata": {},
   "outputs": [
    {
     "data": {
      "text/plain": [
       "Text(0.5, 23.52222222222222, 'Predicted label')"
      ]
     },
     "execution_count": 180,
     "metadata": {},
     "output_type": "execute_result"
    },
    {
     "data": {
      "image/png": "[encoded data removed]",
      "text/plain": [
       "<Figure size 640x480 with 2 Axes>"
      ]
     },
     "metadata": {},
     "output_type": "display_data"
    }
   ],
   "source": [
    "cnf_matrix = confusion_matrix(y_test, y_pred)\n",
    "class_names=[\"OFF\",\"ON\"] \n",
    "fig, ax = plt.subplots()\n",
    "tick_marks = np.arange(len(class_names))\n",
    "plt.xticks(tick_marks, class_names)\n",
    "plt.yticks(tick_marks, class_names)\n",
    "# create heatmap\n",
    "sns.heatmap(pd.DataFrame(cnf_matrix), annot=True, cmap=\"Blues\" ,fmt='g')\n",
    "plt.tight_layout()\n",
    "plt.title('Confusion Matrix - Naive Bayes', y=1.1)\n",
    "plt.ylabel('Actual label')\n",
    "plt.xlabel('Predicted label')"
   ]
  },
  {
   "cell_type": "markdown",
   "id": "580b9032-3c63-43b6-87be-a947587f78ea",
   "metadata": {},
   "source": [
    "#### ROC Curve"
   ]
  },
  {
   "cell_type": "code",
   "execution_count": 226,
   "id": "106731b7-15ca-46d2-8222-ee1144460f0a",
   "metadata": {},
   "outputs": [
    {
     "data": {
      "image/png": "[encoded data removed]",
      "text/plain": [
       "<Figure size 640x480 with 1 Axes>"
      ]
     },
     "metadata": {},
     "output_type": "display_data"
    }
   ],
   "source": [
    "y_pred_proba = nb.predict_proba(X_test)[::,1]\n",
    "fpr_nb, tpr_nb, thresholds_nb = metrics.roc_curve(y_test, y_pred_proba)\n",
    "roc_auc_nb = metrics.auc(fpr_nb, tpr_nb)\n",
    "\n",
    "plt.plot(fpr_nb, tpr_nb, color='navy', lw=2, label=f'Naive Bayes ROC curve (AUC = {roc_auc_nb:.2f})')\n",
    "plt.plot([0,1], [0,1], color='navy', lw=2, linestyle='--')\n",
    "plt.xlabel('False Positive Rate')\n",
    "plt.ylabel('True Positive Rate')\n",
    "plt.title('Receiver Operating Characteristic (ROC) Curve - Naive Bayes')\n",
    "plt.legend(loc=\"lower right\")\n",
    "plt.show()\n"
   ]
  },
  {
   "cell_type": "markdown",
   "id": "4e364ad7-f2b5-415f-94a2-f6d92e114cda",
   "metadata": {},
   "source": [
    "### Random Forest"
   ]
  },
  {
   "cell_type": "code",
   "execution_count": 188,
   "id": "711d9a1c-61ba-4c79-aa82-d10b2bec1490",
   "metadata": {},
   "outputs": [],
   "source": [
    "from sklearn.ensemble import RandomForestClassifier\n",
    "from sklearn.metrics import accuracy_score, confusion_matrix, precision_score, recall_score, ConfusionMatrixDisplay\n",
    "from sklearn.model_selection import RandomizedSearchCV\n",
    "from scipy.stats import randint\n",
    "\n",
    "import graphviz"
   ]
  },
  {
   "cell_type": "markdown",
   "id": "e7cbe8da-fa75-481f-9038-4ea95b6bc1ca",
   "metadata": {},
   "source": [
    "#### Training Model"
   ]
  },
  {
   "cell_type": "code",
   "execution_count": 191,
   "id": "5f90989a-4a12-4f8d-b678-f65b17968b66",
   "metadata": {},
   "outputs": [
    {
     "data": {
      "text/html": [
       "<style>#sk-container-id-3 {color: black;background-color: white;}#sk-container-id-3 pre{padding: 0;}#sk-container-id-3 div.sk-toggleable {background-color: white;}#sk-container-id-3 label.sk-toggleable__label {cursor: pointer;display: block;width: 100%;margin-bottom: 0;padding: 0.3em;box-sizing: border-box;text-align: center;}#sk-container-id-3 label.sk-toggleable__label-arrow:before {content: \"▸\";float: left;margin-right: 0.25em;color: #696969;}#sk-container-id-3 label.sk-toggleable__label-arrow:hover:before {color: black;}#sk-container-id-3 div.sk-estimator:hover label.sk-toggleable__label-arrow:before {color: black;}#sk-container-id-3 div.sk-toggleable__content {max-height: 0;max-width: 0;overflow: hidden;text-align: left;background-color: #f0f8ff;}#sk-container-id-3 div.sk-toggleable__content pre {margin: 0.2em;color: black;border-radius: 0.25em;background-color: #f0f8ff;}#sk-container-id-3 input.sk-toggleable__control:checked~div.sk-toggleable__content {max-height: 200px;max-width: 100%;overflow: auto;}#sk-container-id-3 input.sk-toggleable__control:checked~label.sk-toggleable__label-arrow:before {content: \"▾\";}#sk-container-id-3 div.sk-estimator input.sk-toggleable__control:checked~label.sk-toggleable__label {background-color: #d4ebff;}#sk-container-id-3 div.sk-label input.sk-toggleable__control:checked~label.sk-toggleable__label {background-color: #d4ebff;}#sk-container-id-3 input.sk-hidden--visually {border: 0;clip: rect(1px 1px 1px 1px);clip: rect(1px, 1px, 1px, 1px);height: 1px;margin: -1px;overflow: hidden;padding: 0;position: absolute;width: 1px;}#sk-container-id-3 div.sk-estimator {font-family: monospace;background-color: #f0f8ff;border: 1px dotted black;border-radius: 0.25em;box-sizing: border-box;margin-bottom: 0.5em;}#sk-container-id-3 div.sk-estimator:hover {background-color: #d4ebff;}#sk-container-id-3 div.sk-parallel-item::after {content: \"\";width: 100%;border-bottom: 1px solid gray;flex-grow: 1;}#sk-container-id-3 div.sk-label:hover label.sk-toggleable__label {background-color: #d4ebff;}#sk-container-id-3 div.sk-serial::before {content: \"\";position: absolute;border-left: 1px solid gray;box-sizing: border-box;top: 0;bottom: 0;left: 50%;z-index: 0;}#sk-container-id-3 div.sk-serial {display: flex;flex-direction: column;align-items: center;background-color: white;padding-right: 0.2em;padding-left: 0.2em;position: relative;}#sk-container-id-3 div.sk-item {position: relative;z-index: 1;}#sk-container-id-3 div.sk-parallel {display: flex;align-items: stretch;justify-content: center;background-color: white;position: relative;}#sk-container-id-3 div.sk-item::before, #sk-container-id-3 div.sk-parallel-item::before {content: \"\";position: absolute;border-left: 1px solid gray;box-sizing: border-box;top: 0;bottom: 0;left: 50%;z-index: -1;}#sk-container-id-3 div.sk-parallel-item {display: flex;flex-direction: column;z-index: 1;position: relative;background-color: white;}#sk-container-id-3 div.sk-parallel-item:first-child::after {align-self: flex-end;width: 50%;}#sk-container-id-3 div.sk-parallel-item:last-child::after {align-self: flex-start;width: 50%;}#sk-container-id-3 div.sk-parallel-item:only-child::after {width: 0;}#sk-container-id-3 div.sk-dashed-wrapped {border: 1px dashed gray;margin: 0 0.4em 0.5em 0.4em;box-sizing: border-box;padding-bottom: 0.4em;background-color: white;}#sk-container-id-3 div.sk-label label {font-family: monospace;font-weight: bold;display: inline-block;line-height: 1.2em;}#sk-container-id-3 div.sk-label-container {text-align: center;}#sk-container-id-3 div.sk-container {/* jupyter's `normalize.less` sets `[hidden] { display: none; }` but bootstrap.min.css set `[hidden] { display: none !important; }` so we also need the `!important` here to be able to override the default hidden behavior on the sphinx rendered scikit-learn.org. See: https://github.com/scikit-learn/scikit-learn/issues/21755 */display: inline-block !important;position: relative;}#sk-container-id-3 div.sk-text-repr-fallback {display: none;}</style><div id=\"sk-container-id-3\" class=\"sk-top-container\"><div class=\"sk-text-repr-fallback\"><pre>RandomForestClassifier()</pre><b>In a Jupyter environment, please rerun this cell to show the HTML representation or trust the notebook. <br />On GitHub, the HTML representation is unable to render, please try loading this page with nbviewer.org.</b></div><div class=\"sk-container\" hidden><div class=\"sk-item\"><div class=\"sk-estimator sk-toggleable\"><input class=\"sk-toggleable__control sk-hidden--visually\" id=\"sk-estimator-id-3\" type=\"checkbox\" checked><label for=\"sk-estimator-id-3\" class=\"sk-toggleable__label sk-toggleable__label-arrow\">RandomForestClassifier</label><div class=\"sk-toggleable__content\"><pre>RandomForestClassifier()</pre></div></div></div></div></div>"
      ],
      "text/plain": [
       "RandomForestClassifier()"
      ]
     },
     "execution_count": 191,
     "metadata": {},
     "output_type": "execute_result"
    }
   ],
   "source": [
    "rf = RandomForestClassifier()\n",
    "rf.fit(X_train, y_train)"
   ]
  },
  {
   "cell_type": "markdown",
   "id": "50434761-4ba1-4138-8af0-6b612b9842ff",
   "metadata": {},
   "source": [
    "#### Training Set Evaluation"
   ]
  },
  {
   "cell_type": "code",
   "execution_count": 196,
   "id": "e9aa219b-dffd-4c4a-be44-282b3351ee1d",
   "metadata": {},
   "outputs": [
    {
     "name": "stdout",
     "output_type": "stream",
     "text": [
      "Logistic Regression Performance Metrics:\n",
      "Accuracy : 1.0000\n",
      "Precision: 1.0000\n",
      "Recall   : 1.0000\n",
      "F1-Score : 1.0000\n"
     ]
    }
   ],
   "source": [
    "y_train_pred_rf = rf.predict(X_train)\n",
    "\n",
    "train_accuracy_rf = metrics.accuracy_score(y_train, y_train_pred_rf)\n",
    "train_precision_rf = metrics.precision_score(y_train, y_train_pred_rf)\n",
    "train_recall_rf = metrics.recall_score(y_train, y_train_pred_rf)\n",
    "train_f1_rf = metrics.f1_score(y_train, y_train_pred_rf)\n",
    "\n",
    "perf_metrics(\"Random Forest\", train_accuracy_rf, train_precision_rf, train_recall_rf, train_f1_rf)"
   ]
  },
  {
   "cell_type": "markdown",
   "id": "7ea8c463-56a8-48ba-aa26-852c6d9a7913",
   "metadata": {},
   "source": [
    "#### Test Set Evaluation"
   ]
  },
  {
   "cell_type": "code",
   "execution_count": 206,
   "id": "8559ba77-2692-456f-bd64-c7ee8893e9c4",
   "metadata": {},
   "outputs": [
    {
     "name": "stdout",
     "output_type": "stream",
     "text": [
      "Random Forest Performance Metrics:\n",
      "Accuracy : 0.7262\n",
      "Precision: 0.7246\n",
      "Recall   : 0.7990\n",
      "F1-Score : 0.7600\n"
     ]
    }
   ],
   "source": [
    "y_pred_rf = rf.predict(X_test)\n",
    "\n",
    "accuracy_rf = metrics.accuracy_score(y_test, y_pred_rf)\n",
    "precision_rf = metrics.precision_score(y_test, y_pred_rf)\n",
    "recall_rf = metrics.recall_score(y_test, y_pred_rf)\n",
    "f1_rf = metrics.f1_score(y_test, y_pred_rf)\n",
    "\n",
    "perf_metrics(\"Random Forest\", accuracy_rf, precision_rf, recall_rf, f1_rf)"
   ]
  },
  {
   "cell_type": "markdown",
   "id": "9a65b878-1361-4b18-963e-5baf93138e29",
   "metadata": {},
   "source": [
    "#### Classification Report"
   ]
  },
  {
   "cell_type": "code",
   "execution_count": 209,
   "id": "0cb15d5d-469f-4259-bbc5-f191625d1673",
   "metadata": {},
   "outputs": [
    {
     "name": "stdout",
     "output_type": "stream",
     "text": [
      "              precision    recall  f1-score   support\n",
      "\n",
      "         OFF       0.69      0.63      0.66      3293\n",
      "          ON       0.71      0.76      0.73      3906\n",
      "\n",
      "    accuracy                           0.70      7199\n",
      "   macro avg       0.70      0.70      0.70      7199\n",
      "weighted avg       0.70      0.70      0.70      7199\n",
      "\n"
     ]
    }
   ],
   "source": [
    "target_names = ['OFF', 'ON']\n",
    "print(metrics.classification_report(y_test, y_pred_logreg, target_names=target_names))"
   ]
  },
  {
   "cell_type": "markdown",
   "id": "bf107f5c-6e00-4a21-8ec3-b2a32ca26ec5",
   "metadata": {},
   "source": [
    "#### Confusion Matrix"
   ]
  },
  {
   "cell_type": "code",
   "execution_count": 216,
   "id": "61ca70be-f27c-4839-b3f1-31dc22ee84fd",
   "metadata": {},
   "outputs": [
    {
     "data": {
      "text/plain": [
       "Text(0.5, 23.52222222222222, 'Predicted label')"
      ]
     },
     "execution_count": 216,
     "metadata": {},
     "output_type": "execute_result"
    },
    {
     "data": {
      "image/png": "[encoded data removed]",
      "text/plain": [
       "<Figure size 640x480 with 2 Axes>"
      ]
     },
     "metadata": {},
     "output_type": "display_data"
    }
   ],
   "source": [
    "class_names=[\"OFF\",\"ON\"] \n",
    "fig, ax = plt.subplots()\n",
    "tick_marks = np.arange(len(class_names))\n",
    "plt.xticks(tick_marks, class_names)\n",
    "plt.yticks(tick_marks, class_names)\n",
    "# create heatmap\n",
    "sns.heatmap(pd.DataFrame(cnf_matrix), annot=True, cmap=\"Greens\" ,fmt='g')\n",
    "plt.tight_layout()\n",
    "plt.title('Confusion Matrix - Random Forest', y=1.1)\n",
    "plt.ylabel('Actual label')\n",
    "plt.xlabel('Predicted label')"
   ]
  },
  {
   "cell_type": "markdown",
   "id": "ffac6515-b0bb-4feb-b879-23620f69e63d",
   "metadata": {},
   "source": [
    "#### ROC Curve"
   ]
  },
  {
   "cell_type": "code",
   "execution_count": 219,
   "id": "a7fee818-6c5e-4d9f-811e-dda7e0d6d379",
   "metadata": {},
   "outputs": [
    {
     "data": {
      "image/png": "[encoded data removed]",
      "text/plain": [
       "<Figure size 640x480 with 1 Axes>"
      ]
     },
     "metadata": {},
     "output_type": "display_data"
    }
   ],
   "source": [
    "y_pred_proba = rf.predict_proba(X_test)[::,1]\n",
    "fpr_rf, tpr_rf, thresholds_rf = metrics.roc_curve(y_test, y_pred_proba)\n",
    "roc_auc_rf = metrics.auc(fpr_rf, tpr_rf)\n",
    "\n",
    "plt.plot(fpr_rf, tpr_rf, color='green', lw=2, label=f'Random Forest ROC curve (AUC = {roc_auc_rf:.2f})')\n",
    "plt.plot([0,1], [0,1], color='navy', lw=2, linestyle='--')\n",
    "plt.xlabel('False Positive Rate')\n",
    "plt.ylabel('True Positive Rate')\n",
    "plt.title('Receiver Operating Characteristic (ROC) Curve - Random Forest')\n",
    "plt.legend(loc=\"lower right\")\n",
    "plt.show()\n"
   ]
  },
  {
   "cell_type": "code",
   "execution_count": null,
   "id": "692796dc-51c0-452a-8f38-d691c5a24357",
   "metadata": {},
   "outputs": [],
   "source": [
    "#stopping overfitting"
   ]
  },
  {
   "cell_type": "code",
   "execution_count": 308,
   "id": "83a72e4d-e467-46c3-b684-2f6fabc5a887",
   "metadata": {},
   "outputs": [
    {
     "data": {
      "text/html": [
       "<style>#sk-container-id-17 {color: black;background-color: white;}#sk-container-id-17 pre{padding: 0;}#sk-container-id-17 div.sk-toggleable {background-color: white;}#sk-container-id-17 label.sk-toggleable__label {cursor: pointer;display: block;width: 100%;margin-bottom: 0;padding: 0.3em;box-sizing: border-box;text-align: center;}#sk-container-id-17 label.sk-toggleable__label-arrow:before {content: \"▸\";float: left;margin-right: 0.25em;color: #696969;}#sk-container-id-17 label.sk-toggleable__label-arrow:hover:before {color: black;}#sk-container-id-17 div.sk-estimator:hover label.sk-toggleable__label-arrow:before {color: black;}#sk-container-id-17 div.sk-toggleable__content {max-height: 0;max-width: 0;overflow: hidden;text-align: left;background-color: #f0f8ff;}#sk-container-id-17 div.sk-toggleable__content pre {margin: 0.2em;color: black;border-radius: 0.25em;background-color: #f0f8ff;}#sk-container-id-17 input.sk-toggleable__control:checked~div.sk-toggleable__content {max-height: 200px;max-width: 100%;overflow: auto;}#sk-container-id-17 input.sk-toggleable__control:checked~label.sk-toggleable__label-arrow:before {content: \"▾\";}#sk-container-id-17 div.sk-estimator input.sk-toggleable__control:checked~label.sk-toggleable__label {background-color: #d4ebff;}#sk-container-id-17 div.sk-label input.sk-toggleable__control:checked~label.sk-toggleable__label {background-color: #d4ebff;}#sk-container-id-17 input.sk-hidden--visually {border: 0;clip: rect(1px 1px 1px 1px);clip: rect(1px, 1px, 1px, 1px);height: 1px;margin: -1px;overflow: hidden;padding: 0;position: absolute;width: 1px;}#sk-container-id-17 div.sk-estimator {font-family: monospace;background-color: #f0f8ff;border: 1px dotted black;border-radius: 0.25em;box-sizing: border-box;margin-bottom: 0.5em;}#sk-container-id-17 div.sk-estimator:hover {background-color: #d4ebff;}#sk-container-id-17 div.sk-parallel-item::after {content: \"\";width: 100%;border-bottom: 1px solid gray;flex-grow: 1;}#sk-container-id-17 div.sk-label:hover label.sk-toggleable__label {background-color: #d4ebff;}#sk-container-id-17 div.sk-serial::before {content: \"\";position: absolute;border-left: 1px solid gray;box-sizing: border-box;top: 0;bottom: 0;left: 50%;z-index: 0;}#sk-container-id-17 div.sk-serial {display: flex;flex-direction: column;align-items: center;background-color: white;padding-right: 0.2em;padding-left: 0.2em;position: relative;}#sk-container-id-17 div.sk-item {position: relative;z-index: 1;}#sk-container-id-17 div.sk-parallel {display: flex;align-items: stretch;justify-content: center;background-color: white;position: relative;}#sk-container-id-17 div.sk-item::before, #sk-container-id-17 div.sk-parallel-item::before {content: \"\";position: absolute;border-left: 1px solid gray;box-sizing: border-box;top: 0;bottom: 0;left: 50%;z-index: -1;}#sk-container-id-17 div.sk-parallel-item {display: flex;flex-direction: column;z-index: 1;position: relative;background-color: white;}#sk-container-id-17 div.sk-parallel-item:first-child::after {align-self: flex-end;width: 50%;}#sk-container-id-17 div.sk-parallel-item:last-child::after {align-self: flex-start;width: 50%;}#sk-container-id-17 div.sk-parallel-item:only-child::after {width: 0;}#sk-container-id-17 div.sk-dashed-wrapped {border: 1px dashed gray;margin: 0 0.4em 0.5em 0.4em;box-sizing: border-box;padding-bottom: 0.4em;background-color: white;}#sk-container-id-17 div.sk-label label {font-family: monospace;font-weight: bold;display: inline-block;line-height: 1.2em;}#sk-container-id-17 div.sk-label-container {text-align: center;}#sk-container-id-17 div.sk-container {/* jupyter's `normalize.less` sets `[hidden] { display: none; }` but bootstrap.min.css set `[hidden] { display: none !important; }` so we also need the `!important` here to be able to override the default hidden behavior on the sphinx rendered scikit-learn.org. See: https://github.com/scikit-learn/scikit-learn/issues/21755 */display: inline-block !important;position: relative;}#sk-container-id-17 div.sk-text-repr-fallback {display: none;}</style><div id=\"sk-container-id-17\" class=\"sk-top-container\"><div class=\"sk-text-repr-fallback\"><pre>RandomForestClassifier(max_depth=10, n_estimators=156, random_state=42)</pre><b>In a Jupyter environment, please rerun this cell to show the HTML representation or trust the notebook. <br />On GitHub, the HTML representation is unable to render, please try loading this page with nbviewer.org.</b></div><div class=\"sk-container\" hidden><div class=\"sk-item\"><div class=\"sk-estimator sk-toggleable\"><input class=\"sk-toggleable__control sk-hidden--visually\" id=\"sk-estimator-id-17\" type=\"checkbox\" checked><label for=\"sk-estimator-id-17\" class=\"sk-toggleable__label sk-toggleable__label-arrow\">RandomForestClassifier</label><div class=\"sk-toggleable__content\"><pre>RandomForestClassifier(max_depth=10, n_estimators=156, random_state=42)</pre></div></div></div></div></div>"
      ],
      "text/plain": [
       "RandomForestClassifier(max_depth=10, n_estimators=156, random_state=42)"
      ]
     },
     "execution_count": 308,
     "metadata": {},
     "output_type": "execute_result"
    }
   ],
   "source": [
    "rf = RandomForestClassifier(\n",
    "    max_depth = 10, \n",
    "    n_estimators = 156,\n",
    "    random_state=42\n",
    ")\n",
    "rf.fit(X_train, y_train)"
   ]
  },
  {
   "cell_type": "code",
   "execution_count": 309,
   "id": "86910ea8-f083-4218-b8c3-708cdc252a3a",
   "metadata": {},
   "outputs": [
    {
     "name": "stdout",
     "output_type": "stream",
     "text": [
      "Random Forest Performance Metrics:\n",
      "Accuracy : 0.8042\n",
      "Precision: 0.7982\n",
      "Recall   : 0.8530\n",
      "F1-Score : 0.8247\n"
     ]
    }
   ],
   "source": [
    "y_train_pred_rf = rf.predict(X_train)\n",
    "\n",
    "train_accuracy_rf = metrics.accuracy_score(y_train, y_train_pred_rf)\n",
    "train_precision_rf = metrics.precision_score(y_train, y_train_pred_rf)\n",
    "train_recall_rf = metrics.recall_score(y_train, y_train_pred_rf)\n",
    "train_f1_rf = metrics.f1_score(y_train, y_train_pred_rf)\n",
    "\n",
    "perf_metrics(\"Random Forest\", train_accuracy_rf, train_precision_rf, train_recall_rf, train_f1_rf)"
   ]
  },
  {
   "cell_type": "code",
   "execution_count": 312,
   "id": "c27ba016-a8d5-4945-a2a0-0d7a66b62844",
   "metadata": {},
   "outputs": [
    {
     "name": "stdout",
     "output_type": "stream",
     "text": [
      "Random Forest Performance Metrics:\n",
      "Accuracy : 0.7311\n",
      "Precision: 0.7334\n",
      "Recall   : 0.7924\n",
      "F1-Score : 0.7618\n"
     ]
    }
   ],
   "source": [
    "y_pred_rf = rf.predict(X_test)\n",
    "\n",
    "accuracy_rf = metrics.accuracy_score(y_test, y_pred_rf)\n",
    "precision_rf = metrics.precision_score(y_test, y_pred_rf)\n",
    "recall_rf = metrics.recall_score(y_test, y_pred_rf)\n",
    "f1_rf = metrics.f1_score(y_test, y_pred_rf)\n",
    "\n",
    "perf_metrics(\"Random Forest\", accuracy_rf, precision_rf, recall_rf, f1_rf)"
   ]
  },
  {
   "cell_type": "code",
   "execution_count": null,
   "id": "0fa39ac7-26b0-402f-a790-19f504654ac9",
   "metadata": {},
   "outputs": [],
   "source": [
    "# Random Forest Performance Metrics (without tuning):\n",
    "# Accuracy : 0.7262\n",
    "# Precision: 0.7246\n",
    "# Recall   : 0.7990\n",
    "# F1-Score : 0.7600"
   ]
  },
  {
   "cell_type": "code",
   "execution_count": null,
   "id": "ce8d51e4-c4be-4fcc-82d4-33de3eedc323",
   "metadata": {},
   "outputs": [],
   "source": []
  },
  {
   "cell_type": "markdown",
   "id": "c9deaf38-ea22-41e6-a9d3-615e903eb434",
   "metadata": {},
   "source": [
    "## ignore"
   ]
  },
  {
   "cell_type": "code",
   "execution_count": 345,
   "id": "0f8dd15d-ba89-4c72-8b88-4abaa833f208",
   "metadata": {},
   "outputs": [
    {
     "data": {
      "image/svg+xml": [
       "<?xml version=\"1.0\" encoding=\"UTF-8\" standalone=\"no\"?>\n",
       "<!DOCTYPE svg PUBLIC \"-//W3C//DTD SVG 1.1//EN\"\n",
       " \"http://www.w3.org/Graphics/SVG/1.1/DTD/svg11.dtd\">\n",
       "<!-- Generated by graphviz version 2.50.0 (0)\n",
       " -->\n",
       "<!-- Title: Tree Pages: 1 -->\n",
       "<svg width=\"673pt\" height=\"311pt\"\n",
       " viewBox=\"0.00 0.00 673.00 311.00\" xmlns=\"http://www.w3.org/2000/svg\" xmlns:xlink=\"http://www.w3.org/1999/xlink\">\n",
       "<g id=\"graph0\" class=\"graph\" transform=\"scale(1 1) rotate(0) translate(4 307)\">\n",
       "<title>Tree</title>\n",
       "<polygon fill=\"white\" stroke=\"transparent\" points=\"-4,4 -4,-307 669,-307 669,4 -4,4\"/>\n",
       "<!-- 0 -->\n",
       "<g id=\"node1\" class=\"node\">\n",
       "<title>0</title>\n",
       "<polygon fill=\"#dfeffb\" stroke=\"black\" points=\"393.5,-303 246.5,-303 246.5,-250 393.5,-250 393.5,-303\"/>\n",
       "<text text-anchor=\"middle\" x=\"320\" y=\"-287.8\" font-family=\"Helvetica,sans-Serif\" font-size=\"14.00\">Temperature &lt;= 24.5</text>\n",
       "<text text-anchor=\"middle\" x=\"320\" y=\"-272.8\" font-family=\"Helvetica,sans-Serif\" font-size=\"14.00\">samples = 100.0%</text>\n",
       "<text text-anchor=\"middle\" x=\"320\" y=\"-257.8\" font-family=\"Helvetica,sans-Serif\" font-size=\"14.00\">value = [0.455, 0.545]</text>\n",
       "</g>\n",
       "<!-- 1 -->\n",
       "<g id=\"node2\" class=\"node\">\n",
       "<title>1</title>\n",
       "<polygon fill=\"#f8deca\" stroke=\"black\" points=\"301.5,-214 154.5,-214 154.5,-161 301.5,-161 301.5,-214\"/>\n",
       "<text text-anchor=\"middle\" x=\"228\" y=\"-198.8\" font-family=\"Helvetica,sans-Serif\" font-size=\"14.00\">Soil Humidity &lt;= 63.5</text>\n",
       "<text text-anchor=\"middle\" x=\"228\" y=\"-183.8\" font-family=\"Helvetica,sans-Serif\" font-size=\"14.00\">samples = 54.9%</text>\n",
       "<text text-anchor=\"middle\" x=\"228\" y=\"-168.8\" font-family=\"Helvetica,sans-Serif\" font-size=\"14.00\">value = [0.576, 0.424]</text>\n",
       "</g>\n",
       "<!-- 0&#45;&gt;1 -->\n",
       "<g id=\"edge1\" class=\"edge\">\n",
       "<title>0&#45;&gt;1</title>\n",
       "<path fill=\"none\" stroke=\"black\" d=\"M292.89,-249.87C283.43,-240.92 272.68,-230.75 262.69,-221.3\"/>\n",
       "<polygon fill=\"black\" stroke=\"black\" points=\"264.9,-218.58 255.23,-214.25 260.09,-223.66 264.9,-218.58\"/>\n",
       "<text text-anchor=\"middle\" x=\"255.93\" y=\"-235.54\" font-family=\"Helvetica,sans-Serif\" font-size=\"14.00\">True</text>\n",
       "</g>\n",
       "<!-- 3146 -->\n",
       "<g id=\"node9\" class=\"node\">\n",
       "<title>3146</title>\n",
       "<polygon fill=\"#90c8f0\" stroke=\"black\" points=\"504,-214 320,-214 320,-161 504,-161 504,-214\"/>\n",
       "<text text-anchor=\"middle\" x=\"412\" y=\"-198.8\" font-family=\"Helvetica,sans-Serif\" font-size=\"14.00\">Wind speed (Km/h) &lt;= 0.24</text>\n",
       "<text text-anchor=\"middle\" x=\"412\" y=\"-183.8\" font-family=\"Helvetica,sans-Serif\" font-size=\"14.00\">samples = 45.1%</text>\n",
       "<text text-anchor=\"middle\" x=\"412\" y=\"-168.8\" font-family=\"Helvetica,sans-Serif\" font-size=\"14.00\">value = [0.306, 0.694]</text>\n",
       "</g>\n",
       "<!-- 0&#45;&gt;3146 -->\n",
       "<g id=\"edge8\" class=\"edge\">\n",
       "<title>0&#45;&gt;3146</title>\n",
       "<path fill=\"none\" stroke=\"black\" d=\"M347.11,-249.87C356.57,-240.92 367.32,-230.75 377.31,-221.3\"/>\n",
       "<polygon fill=\"black\" stroke=\"black\" points=\"379.91,-223.66 384.77,-214.25 375.1,-218.58 379.91,-223.66\"/>\n",
       "<text text-anchor=\"middle\" x=\"384.07\" y=\"-235.54\" font-family=\"Helvetica,sans-Serif\" font-size=\"14.00\">False</text>\n",
       "</g>\n",
       "<!-- 2 -->\n",
       "<g id=\"node3\" class=\"node\">\n",
       "<title>2</title>\n",
       "<polygon fill=\"#f6d5bd\" stroke=\"black\" points=\"146,-125 0,-125 0,-72 146,-72 146,-125\"/>\n",
       "<text text-anchor=\"middle\" x=\"73\" y=\"-109.8\" font-family=\"Helvetica,sans-Serif\" font-size=\"14.00\">Soil Humidity &lt;= 47.5</text>\n",
       "<text text-anchor=\"middle\" x=\"73\" y=\"-94.8\" font-family=\"Helvetica,sans-Serif\" font-size=\"14.00\">samples = 47.9%</text>\n",
       "<text text-anchor=\"middle\" x=\"73\" y=\"-79.8\" font-family=\"Helvetica,sans-Serif\" font-size=\"14.00\">value = [0.6, 0.4]</text>\n",
       "</g>\n",
       "<!-- 1&#45;&gt;2 -->\n",
       "<g id=\"edge2\" class=\"edge\">\n",
       "<title>1&#45;&gt;2</title>\n",
       "<path fill=\"none\" stroke=\"black\" d=\"M182.33,-160.87C165.22,-151.26 145.61,-140.25 127.76,-130.24\"/>\n",
       "<polygon fill=\"black\" stroke=\"black\" points=\"129.04,-126.94 118.61,-125.1 125.62,-133.05 129.04,-126.94\"/>\n",
       "</g>\n",
       "<!-- 2665 -->\n",
       "<g id=\"node6\" class=\"node\">\n",
       "<title>2665</title>\n",
       "<polygon fill=\"#c3e1f7\" stroke=\"black\" points=\"310,-125 164,-125 164,-72 310,-72 310,-125\"/>\n",
       "<text text-anchor=\"middle\" x=\"237\" y=\"-109.8\" font-family=\"Helvetica,sans-Serif\" font-size=\"14.00\">Soil Humidity &lt;= 65.5</text>\n",
       "<text text-anchor=\"middle\" x=\"237\" y=\"-94.8\" font-family=\"Helvetica,sans-Serif\" font-size=\"14.00\">samples = 6.9%</text>\n",
       "<text text-anchor=\"middle\" x=\"237\" y=\"-79.8\" font-family=\"Helvetica,sans-Serif\" font-size=\"14.00\">value = [0.41, 0.59]</text>\n",
       "</g>\n",
       "<!-- 1&#45;&gt;2665 -->\n",
       "<g id=\"edge5\" class=\"edge\">\n",
       "<title>1&#45;&gt;2665</title>\n",
       "<path fill=\"none\" stroke=\"black\" d=\"M230.65,-160.87C231.48,-152.89 232.4,-143.93 233.29,-135.38\"/>\n",
       "<polygon fill=\"black\" stroke=\"black\" points=\"236.79,-135.56 234.34,-125.25 229.83,-134.84 236.79,-135.56\"/>\n",
       "</g>\n",
       "<!-- 3 -->\n",
       "<g id=\"node4\" class=\"node\">\n",
       "<title>3</title>\n",
       "<polygon fill=\"#c0c0c0\" stroke=\"black\" points=\"64,-36 10,-36 10,0 64,0 64,-36\"/>\n",
       "<text text-anchor=\"middle\" x=\"37\" y=\"-14.3\" font-family=\"Helvetica,sans-Serif\" font-size=\"14.00\">(...)</text>\n",
       "</g>\n",
       "<!-- 2&#45;&gt;3 -->\n",
       "<g id=\"edge3\" class=\"edge\">\n",
       "<title>2&#45;&gt;3</title>\n",
       "<path fill=\"none\" stroke=\"black\" d=\"M61.21,-71.8C57.34,-63.35 53.03,-53.95 49.13,-45.45\"/>\n",
       "<polygon fill=\"black\" stroke=\"black\" points=\"52.3,-43.96 44.95,-36.33 45.93,-46.88 52.3,-43.96\"/>\n",
       "</g>\n",
       "<!-- 1846 -->\n",
       "<g id=\"node5\" class=\"node\">\n",
       "<title>1846</title>\n",
       "<polygon fill=\"#c0c0c0\" stroke=\"black\" points=\"136,-36 82,-36 82,0 136,0 136,-36\"/>\n",
       "<text text-anchor=\"middle\" x=\"109\" y=\"-14.3\" font-family=\"Helvetica,sans-Serif\" font-size=\"14.00\">(...)</text>\n",
       "</g>\n",
       "<!-- 2&#45;&gt;1846 -->\n",
       "<g id=\"edge4\" class=\"edge\">\n",
       "<title>2&#45;&gt;1846</title>\n",
       "<path fill=\"none\" stroke=\"black\" d=\"M84.79,-71.8C88.66,-63.35 92.97,-53.95 96.87,-45.45\"/>\n",
       "<polygon fill=\"black\" stroke=\"black\" points=\"100.07,-46.88 101.05,-36.33 93.7,-43.96 100.07,-46.88\"/>\n",
       "</g>\n",
       "<!-- 2666 -->\n",
       "<g id=\"node7\" class=\"node\">\n",
       "<title>2666</title>\n",
       "<polygon fill=\"#c0c0c0\" stroke=\"black\" points=\"236,-36 182,-36 182,0 236,0 236,-36\"/>\n",
       "<text text-anchor=\"middle\" x=\"209\" y=\"-14.3\" font-family=\"Helvetica,sans-Serif\" font-size=\"14.00\">(...)</text>\n",
       "</g>\n",
       "<!-- 2665&#45;&gt;2666 -->\n",
       "<g id=\"edge6\" class=\"edge\">\n",
       "<title>2665&#45;&gt;2666</title>\n",
       "<path fill=\"none\" stroke=\"black\" d=\"M227.83,-71.8C224.88,-63.53 221.61,-54.35 218.63,-46\"/>\n",
       "<polygon fill=\"black\" stroke=\"black\" points=\"221.84,-44.57 215.18,-36.33 215.24,-46.93 221.84,-44.57\"/>\n",
       "</g>\n",
       "<!-- 2817 -->\n",
       "<g id=\"node8\" class=\"node\">\n",
       "<title>2817</title>\n",
       "<polygon fill=\"#c0c0c0\" stroke=\"black\" points=\"308,-36 254,-36 254,0 308,0 308,-36\"/>\n",
       "<text text-anchor=\"middle\" x=\"281\" y=\"-14.3\" font-family=\"Helvetica,sans-Serif\" font-size=\"14.00\">(...)</text>\n",
       "</g>\n",
       "<!-- 2665&#45;&gt;2817 -->\n",
       "<g id=\"edge7\" class=\"edge\">\n",
       "<title>2665&#45;&gt;2817</title>\n",
       "<path fill=\"none\" stroke=\"black\" d=\"M251.41,-71.8C256.19,-63.26 261.52,-53.75 266.33,-45.17\"/>\n",
       "<polygon fill=\"black\" stroke=\"black\" points=\"269.45,-46.76 271.29,-36.33 263.34,-43.34 269.45,-46.76\"/>\n",
       "</g>\n",
       "<!-- 3147 -->\n",
       "<g id=\"node10\" class=\"node\">\n",
       "<title>3147</title>\n",
       "<polygon fill=\"#399de5\" stroke=\"black\" points=\"462.5,-117.5 345.5,-117.5 345.5,-79.5 462.5,-79.5 462.5,-117.5\"/>\n",
       "<text text-anchor=\"middle\" x=\"404\" y=\"-102.3\" font-family=\"Helvetica,sans-Serif\" font-size=\"14.00\">samples = 0.1%</text>\n",
       "<text text-anchor=\"middle\" x=\"404\" y=\"-87.3\" font-family=\"Helvetica,sans-Serif\" font-size=\"14.00\">value = [0.0, 1.0]</text>\n",
       "</g>\n",
       "<!-- 3146&#45;&gt;3147 -->\n",
       "<g id=\"edge9\" class=\"edge\">\n",
       "<title>3146&#45;&gt;3147</title>\n",
       "<path fill=\"none\" stroke=\"black\" d=\"M409.64,-160.87C408.68,-150.42 407.57,-138.3 406.58,-127.61\"/>\n",
       "<polygon fill=\"black\" stroke=\"black\" points=\"410.06,-127.14 405.66,-117.51 403.09,-127.79 410.06,-127.14\"/>\n",
       "</g>\n",
       "<!-- 3148 -->\n",
       "<g id=\"node11\" class=\"node\">\n",
       "<title>3148</title>\n",
       "<polygon fill=\"#91c8f1\" stroke=\"black\" points=\"665,-125 481,-125 481,-72 665,-72 665,-125\"/>\n",
       "<text text-anchor=\"middle\" x=\"573\" y=\"-109.8\" font-family=\"Helvetica,sans-Serif\" font-size=\"14.00\">Wind speed (Km/h) &lt;= 0.33</text>\n",
       "<text text-anchor=\"middle\" x=\"573\" y=\"-94.8\" font-family=\"Helvetica,sans-Serif\" font-size=\"14.00\">samples = 45.0%</text>\n",
       "<text text-anchor=\"middle\" x=\"573\" y=\"-79.8\" font-family=\"Helvetica,sans-Serif\" font-size=\"14.00\">value = [0.307, 0.693]</text>\n",
       "</g>\n",
       "<!-- 3146&#45;&gt;3148 -->\n",
       "<g id=\"edge10\" class=\"edge\">\n",
       "<title>3146&#45;&gt;3148</title>\n",
       "<path fill=\"none\" stroke=\"black\" d=\"M459.43,-160.87C477.37,-151.18 497.96,-140.05 516.63,-129.96\"/>\n",
       "<polygon fill=\"black\" stroke=\"black\" points=\"518.49,-132.93 525.63,-125.1 515.16,-126.77 518.49,-132.93\"/>\n",
       "</g>\n",
       "<!-- 3149 -->\n",
       "<g id=\"node12\" class=\"node\">\n",
       "<title>3149</title>\n",
       "<polygon fill=\"#c0c0c0\" stroke=\"black\" points=\"564,-36 510,-36 510,0 564,0 564,-36\"/>\n",
       "<text text-anchor=\"middle\" x=\"537\" y=\"-14.3\" font-family=\"Helvetica,sans-Serif\" font-size=\"14.00\">(...)</text>\n",
       "</g>\n",
       "<!-- 3148&#45;&gt;3149 -->\n",
       "<g id=\"edge11\" class=\"edge\">\n",
       "<title>3148&#45;&gt;3149</title>\n",
       "<path fill=\"none\" stroke=\"black\" d=\"M561.21,-71.8C557.34,-63.35 553.03,-53.95 549.13,-45.45\"/>\n",
       "<polygon fill=\"black\" stroke=\"black\" points=\"552.3,-43.96 544.95,-36.33 545.93,-46.88 552.3,-43.96\"/>\n",
       "</g>\n",
       "<!-- 3150 -->\n",
       "<g id=\"node13\" class=\"node\">\n",
       "<title>3150</title>\n",
       "<polygon fill=\"#c0c0c0\" stroke=\"black\" points=\"636,-36 582,-36 582,0 636,0 636,-36\"/>\n",
       "<text text-anchor=\"middle\" x=\"609\" y=\"-14.3\" font-family=\"Helvetica,sans-Serif\" font-size=\"14.00\">(...)</text>\n",
       "</g>\n",
       "<!-- 3148&#45;&gt;3150 -->\n",
       "<g id=\"edge12\" class=\"edge\">\n",
       "<title>3148&#45;&gt;3150</title>\n",
       "<path fill=\"none\" stroke=\"black\" d=\"M584.79,-71.8C588.66,-63.35 592.97,-53.95 596.87,-45.45\"/>\n",
       "<polygon fill=\"black\" stroke=\"black\" points=\"600.07,-46.88 601.05,-36.33 593.7,-43.96 600.07,-46.88\"/>\n",
       "</g>\n",
       "</g>\n",
       "</svg>\n"
      ],
      "text/plain": [
       "<graphviz.sources.Source at 0x1ce3e64da90>"
      ]
     },
     "metadata": {},
     "output_type": "display_data"
    },
    {
     "data": {
      "image/svg+xml": [
       "<?xml version=\"1.0\" encoding=\"UTF-8\" standalone=\"no\"?>\n",
       "<!DOCTYPE svg PUBLIC \"-//W3C//DTD SVG 1.1//EN\"\n",
       " \"http://www.w3.org/Graphics/SVG/1.1/DTD/svg11.dtd\">\n",
       "<!-- Generated by graphviz version 2.50.0 (0)\n",
       " -->\n",
       "<!-- Title: Tree Pages: 1 -->\n",
       "<svg width=\"657pt\" height=\"311pt\"\n",
       " viewBox=\"0.00 0.00 656.50 311.00\" xmlns=\"http://www.w3.org/2000/svg\" xmlns:xlink=\"http://www.w3.org/1999/xlink\">\n",
       "<g id=\"graph0\" class=\"graph\" transform=\"scale(1 1) rotate(0) translate(4 307)\">\n",
       "<title>Tree</title>\n",
       "<polygon fill=\"white\" stroke=\"transparent\" points=\"-4,4 -4,-307 652.5,-307 652.5,4 -4,4\"/>\n",
       "<!-- 0 -->\n",
       "<g id=\"node1\" class=\"node\">\n",
       "<title>0</title>\n",
       "<polygon fill=\"#e3f1fb\" stroke=\"black\" points=\"394,-303 247,-303 247,-250 394,-250 394,-303\"/>\n",
       "<text text-anchor=\"middle\" x=\"320.5\" y=\"-287.8\" font-family=\"Helvetica,sans-Serif\" font-size=\"14.00\">Soil Moisture &lt;= 59.5</text>\n",
       "<text text-anchor=\"middle\" x=\"320.5\" y=\"-272.8\" font-family=\"Helvetica,sans-Serif\" font-size=\"14.00\">samples = 100.0%</text>\n",
       "<text text-anchor=\"middle\" x=\"320.5\" y=\"-257.8\" font-family=\"Helvetica,sans-Serif\" font-size=\"14.00\">value = [0.462, 0.538]</text>\n",
       "</g>\n",
       "<!-- 1 -->\n",
       "<g id=\"node2\" class=\"node\">\n",
       "<title>1</title>\n",
       "<polygon fill=\"#a5d2f3\" stroke=\"black\" points=\"312,-214 165,-214 165,-161 312,-161 312,-214\"/>\n",
       "<text text-anchor=\"middle\" x=\"238.5\" y=\"-198.8\" font-family=\"Helvetica,sans-Serif\" font-size=\"14.00\">Temperature &lt;= 10.5</text>\n",
       "<text text-anchor=\"middle\" x=\"238.5\" y=\"-183.8\" font-family=\"Helvetica,sans-Serif\" font-size=\"14.00\">samples = 66.4%</text>\n",
       "<text text-anchor=\"middle\" x=\"238.5\" y=\"-168.8\" font-family=\"Helvetica,sans-Serif\" font-size=\"14.00\">value = [0.353, 0.647]</text>\n",
       "</g>\n",
       "<!-- 0&#45;&gt;1 -->\n",
       "<g id=\"edge1\" class=\"edge\">\n",
       "<title>0&#45;&gt;1</title>\n",
       "<path fill=\"none\" stroke=\"black\" d=\"M296.34,-249.87C287.99,-241.01 278.51,-230.95 269.68,-221.58\"/>\n",
       "<polygon fill=\"black\" stroke=\"black\" points=\"272.18,-219.13 262.77,-214.25 267.08,-223.93 272.18,-219.13\"/>\n",
       "<text text-anchor=\"middle\" x=\"262.03\" y=\"-235.54\" font-family=\"Helvetica,sans-Serif\" font-size=\"14.00\">True</text>\n",
       "</g>\n",
       "<!-- 4048 -->\n",
       "<g id=\"node9\" class=\"node\">\n",
       "<title>4048</title>\n",
       "<polygon fill=\"#f1be98\" stroke=\"black\" points=\"477,-214 330,-214 330,-161 477,-161 477,-214\"/>\n",
       "<text text-anchor=\"middle\" x=\"403.5\" y=\"-198.8\" font-family=\"Helvetica,sans-Serif\" font-size=\"14.00\">Temperature &lt;= 24.5</text>\n",
       "<text text-anchor=\"middle\" x=\"403.5\" y=\"-183.8\" font-family=\"Helvetica,sans-Serif\" font-size=\"14.00\">samples = 33.6%</text>\n",
       "<text text-anchor=\"middle\" x=\"403.5\" y=\"-168.8\" font-family=\"Helvetica,sans-Serif\" font-size=\"14.00\">value = [0.675, 0.325]</text>\n",
       "</g>\n",
       "<!-- 0&#45;&gt;4048 -->\n",
       "<g id=\"edge8\" class=\"edge\">\n",
       "<title>0&#45;&gt;4048</title>\n",
       "<path fill=\"none\" stroke=\"black\" d=\"M344.95,-249.87C353.41,-241.01 363,-230.95 371.94,-221.58\"/>\n",
       "<polygon fill=\"black\" stroke=\"black\" points=\"374.56,-223.9 378.93,-214.25 369.5,-219.07 374.56,-223.9\"/>\n",
       "<text text-anchor=\"middle\" x=\"379.52\" y=\"-235.54\" font-family=\"Helvetica,sans-Serif\" font-size=\"14.00\">False</text>\n",
       "</g>\n",
       "<!-- 2 -->\n",
       "<g id=\"node3\" class=\"node\">\n",
       "<title>2</title>\n",
       "<polygon fill=\"#f7dac5\" stroke=\"black\" points=\"147,-125 0,-125 0,-72 147,-72 147,-125\"/>\n",
       "<text text-anchor=\"middle\" x=\"73.5\" y=\"-109.8\" font-family=\"Helvetica,sans-Serif\" font-size=\"14.00\">Soil Moisture &lt;= 20.5</text>\n",
       "<text text-anchor=\"middle\" x=\"73.5\" y=\"-94.8\" font-family=\"Helvetica,sans-Serif\" font-size=\"14.00\">samples = 15.9%</text>\n",
       "<text text-anchor=\"middle\" x=\"73.5\" y=\"-79.8\" font-family=\"Helvetica,sans-Serif\" font-size=\"14.00\">value = [0.586, 0.414]</text>\n",
       "</g>\n",
       "<!-- 1&#45;&gt;2 -->\n",
       "<g id=\"edge2\" class=\"edge\">\n",
       "<title>1&#45;&gt;2</title>\n",
       "<path fill=\"none\" stroke=\"black\" d=\"M189.89,-160.87C171.42,-151.13 150.22,-139.95 131.01,-129.82\"/>\n",
       "<polygon fill=\"black\" stroke=\"black\" points=\"132.53,-126.67 122.05,-125.1 129.26,-132.86 132.53,-126.67\"/>\n",
       "</g>\n",
       "<!-- 1087 -->\n",
       "<g id=\"node6\" class=\"node\">\n",
       "<title>1087</title>\n",
       "<polygon fill=\"#86c3ef\" stroke=\"black\" points=\"312,-125 165,-125 165,-72 312,-72 312,-125\"/>\n",
       "<text text-anchor=\"middle\" x=\"238.5\" y=\"-109.8\" font-family=\"Helvetica,sans-Serif\" font-size=\"14.00\">Temperature &lt;= 25.5</text>\n",
       "<text text-anchor=\"middle\" x=\"238.5\" y=\"-94.8\" font-family=\"Helvetica,sans-Serif\" font-size=\"14.00\">samples = 50.5%</text>\n",
       "<text text-anchor=\"middle\" x=\"238.5\" y=\"-79.8\" font-family=\"Helvetica,sans-Serif\" font-size=\"14.00\">value = [0.279, 0.721]</text>\n",
       "</g>\n",
       "<!-- 1&#45;&gt;1087 -->\n",
       "<g id=\"edge5\" class=\"edge\">\n",
       "<title>1&#45;&gt;1087</title>\n",
       "<path fill=\"none\" stroke=\"black\" d=\"M238.5,-160.87C238.5,-152.89 238.5,-143.93 238.5,-135.38\"/>\n",
       "<polygon fill=\"black\" stroke=\"black\" points=\"242,-135.25 238.5,-125.25 235,-135.25 242,-135.25\"/>\n",
       "</g>\n",
       "<!-- 3 -->\n",
       "<g id=\"node4\" class=\"node\">\n",
       "<title>3</title>\n",
       "<polygon fill=\"#c0c0c0\" stroke=\"black\" points=\"96.5,-36 42.5,-36 42.5,0 96.5,0 96.5,-36\"/>\n",
       "<text text-anchor=\"middle\" x=\"69.5\" y=\"-14.3\" font-family=\"Helvetica,sans-Serif\" font-size=\"14.00\">(...)</text>\n",
       "</g>\n",
       "<!-- 2&#45;&gt;3 -->\n",
       "<g id=\"edge3\" class=\"edge\">\n",
       "<title>2&#45;&gt;3</title>\n",
       "<path fill=\"none\" stroke=\"black\" d=\"M72.19,-71.8C71.78,-63.71 71.32,-54.76 70.9,-46.55\"/>\n",
       "<polygon fill=\"black\" stroke=\"black\" points=\"74.39,-46.14 70.38,-36.33 67.4,-46.5 74.39,-46.14\"/>\n",
       "</g>\n",
       "<!-- 396 -->\n",
       "<g id=\"node5\" class=\"node\">\n",
       "<title>396</title>\n",
       "<polygon fill=\"#c0c0c0\" stroke=\"black\" points=\"168.5,-36 114.5,-36 114.5,0 168.5,0 168.5,-36\"/>\n",
       "<text text-anchor=\"middle\" x=\"141.5\" y=\"-14.3\" font-family=\"Helvetica,sans-Serif\" font-size=\"14.00\">(...)</text>\n",
       "</g>\n",
       "<!-- 2&#45;&gt;396 -->\n",
       "<g id=\"edge4\" class=\"edge\">\n",
       "<title>2&#45;&gt;396</title>\n",
       "<path fill=\"none\" stroke=\"black\" d=\"M95.77,-71.8C103.48,-62.9 112.1,-52.93 119.77,-44.08\"/>\n",
       "<polygon fill=\"black\" stroke=\"black\" points=\"122.59,-46.18 126.49,-36.33 117.29,-41.6 122.59,-46.18\"/>\n",
       "</g>\n",
       "<!-- 1088 -->\n",
       "<g id=\"node7\" class=\"node\">\n",
       "<title>1088</title>\n",
       "<polygon fill=\"#c0c0c0\" stroke=\"black\" points=\"252.5,-36 198.5,-36 198.5,0 252.5,0 252.5,-36\"/>\n",
       "<text text-anchor=\"middle\" x=\"225.5\" y=\"-14.3\" font-family=\"Helvetica,sans-Serif\" font-size=\"14.00\">(...)</text>\n",
       "</g>\n",
       "<!-- 1087&#45;&gt;1088 -->\n",
       "<g id=\"edge6\" class=\"edge\">\n",
       "<title>1087&#45;&gt;1088</title>\n",
       "<path fill=\"none\" stroke=\"black\" d=\"M234.24,-71.8C232.89,-63.62 231.39,-54.55 230.02,-46.27\"/>\n",
       "<polygon fill=\"black\" stroke=\"black\" points=\"233.46,-45.62 228.37,-36.33 226.55,-46.77 233.46,-45.62\"/>\n",
       "</g>\n",
       "<!-- 2449 -->\n",
       "<g id=\"node8\" class=\"node\">\n",
       "<title>2449</title>\n",
       "<polygon fill=\"#c0c0c0\" stroke=\"black\" points=\"324.5,-36 270.5,-36 270.5,0 324.5,0 324.5,-36\"/>\n",
       "<text text-anchor=\"middle\" x=\"297.5\" y=\"-14.3\" font-family=\"Helvetica,sans-Serif\" font-size=\"14.00\">(...)</text>\n",
       "</g>\n",
       "<!-- 1087&#45;&gt;2449 -->\n",
       "<g id=\"edge7\" class=\"edge\">\n",
       "<title>1087&#45;&gt;2449</title>\n",
       "<path fill=\"none\" stroke=\"black\" d=\"M257.82,-71.8C264.44,-62.99 271.84,-53.14 278.44,-44.36\"/>\n",
       "<polygon fill=\"black\" stroke=\"black\" points=\"281.26,-46.43 284.47,-36.33 275.67,-42.22 281.26,-46.43\"/>\n",
       "</g>\n",
       "<!-- 4049 -->\n",
       "<g id=\"node10\" class=\"node\">\n",
       "<title>4049</title>\n",
       "<polygon fill=\"#eb9c63\" stroke=\"black\" points=\"477,-125 330,-125 330,-72 477,-72 477,-125\"/>\n",
       "<text text-anchor=\"middle\" x=\"403.5\" y=\"-109.8\" font-family=\"Helvetica,sans-Serif\" font-size=\"14.00\">Temperature &lt;= 9.5</text>\n",
       "<text text-anchor=\"middle\" x=\"403.5\" y=\"-94.8\" font-family=\"Helvetica,sans-Serif\" font-size=\"14.00\">samples = 18.3%</text>\n",
       "<text text-anchor=\"middle\" x=\"403.5\" y=\"-79.8\" font-family=\"Helvetica,sans-Serif\" font-size=\"14.00\">value = [0.824, 0.176]</text>\n",
       "</g>\n",
       "<!-- 4048&#45;&gt;4049 -->\n",
       "<g id=\"edge9\" class=\"edge\">\n",
       "<title>4048&#45;&gt;4049</title>\n",
       "<path fill=\"none\" stroke=\"black\" d=\"M403.5,-160.87C403.5,-152.89 403.5,-143.93 403.5,-135.38\"/>\n",
       "<polygon fill=\"black\" stroke=\"black\" points=\"407,-135.25 403.5,-125.25 400,-135.25 407,-135.25\"/>\n",
       "</g>\n",
       "<!-- 4760 -->\n",
       "<g id=\"node13\" class=\"node\">\n",
       "<title>4760</title>\n",
       "<polygon fill=\"#fefeff\" stroke=\"black\" points=\"642,-125 495,-125 495,-72 642,-72 642,-125\"/>\n",
       "<text text-anchor=\"middle\" x=\"568.5\" y=\"-109.8\" font-family=\"Helvetica,sans-Serif\" font-size=\"14.00\">Temperature &lt;= 28.5</text>\n",
       "<text text-anchor=\"middle\" x=\"568.5\" y=\"-94.8\" font-family=\"Helvetica,sans-Serif\" font-size=\"14.00\">samples = 15.3%</text>\n",
       "<text text-anchor=\"middle\" x=\"568.5\" y=\"-79.8\" font-family=\"Helvetica,sans-Serif\" font-size=\"14.00\">value = [0.498, 0.502]</text>\n",
       "</g>\n",
       "<!-- 4048&#45;&gt;4760 -->\n",
       "<g id=\"edge12\" class=\"edge\">\n",
       "<title>4048&#45;&gt;4760</title>\n",
       "<path fill=\"none\" stroke=\"black\" d=\"M452.11,-160.87C470.58,-151.13 491.78,-139.95 510.99,-129.82\"/>\n",
       "<polygon fill=\"black\" stroke=\"black\" points=\"512.74,-132.86 519.95,-125.1 509.47,-126.67 512.74,-132.86\"/>\n",
       "</g>\n",
       "<!-- 4050 -->\n",
       "<g id=\"node11\" class=\"node\">\n",
       "<title>4050</title>\n",
       "<polygon fill=\"#c0c0c0\" stroke=\"black\" points=\"413.5,-36 359.5,-36 359.5,0 413.5,0 413.5,-36\"/>\n",
       "<text text-anchor=\"middle\" x=\"386.5\" y=\"-14.3\" font-family=\"Helvetica,sans-Serif\" font-size=\"14.00\">(...)</text>\n",
       "</g>\n",
       "<!-- 4049&#45;&gt;4050 -->\n",
       "<g id=\"edge10\" class=\"edge\">\n",
       "<title>4049&#45;&gt;4050</title>\n",
       "<path fill=\"none\" stroke=\"black\" d=\"M397.93,-71.8C396.16,-63.62 394.2,-54.55 392.41,-46.27\"/>\n",
       "<polygon fill=\"black\" stroke=\"black\" points=\"395.79,-45.36 390.25,-36.33 388.95,-46.84 395.79,-45.36\"/>\n",
       "</g>\n",
       "<!-- 4185 -->\n",
       "<g id=\"node12\" class=\"node\">\n",
       "<title>4185</title>\n",
       "<polygon fill=\"#c0c0c0\" stroke=\"black\" points=\"485.5,-36 431.5,-36 431.5,0 485.5,0 485.5,-36\"/>\n",
       "<text text-anchor=\"middle\" x=\"458.5\" y=\"-14.3\" font-family=\"Helvetica,sans-Serif\" font-size=\"14.00\">(...)</text>\n",
       "</g>\n",
       "<!-- 4049&#45;&gt;4185 -->\n",
       "<g id=\"edge11\" class=\"edge\">\n",
       "<title>4049&#45;&gt;4185</title>\n",
       "<path fill=\"none\" stroke=\"black\" d=\"M421.51,-71.8C427.62,-63.08 434.44,-53.34 440.54,-44.63\"/>\n",
       "<polygon fill=\"black\" stroke=\"black\" points=\"443.49,-46.53 446.36,-36.33 437.75,-42.51 443.49,-46.53\"/>\n",
       "</g>\n",
       "<!-- 4761 -->\n",
       "<g id=\"node14\" class=\"node\">\n",
       "<title>4761</title>\n",
       "<polygon fill=\"#c0c0c0\" stroke=\"black\" points=\"576.5,-36 522.5,-36 522.5,0 576.5,0 576.5,-36\"/>\n",
       "<text text-anchor=\"middle\" x=\"549.5\" y=\"-14.3\" font-family=\"Helvetica,sans-Serif\" font-size=\"14.00\">(...)</text>\n",
       "</g>\n",
       "<!-- 4760&#45;&gt;4761 -->\n",
       "<g id=\"edge13\" class=\"edge\">\n",
       "<title>4760&#45;&gt;4761</title>\n",
       "<path fill=\"none\" stroke=\"black\" d=\"M562.28,-71.8C560.3,-63.62 558.11,-54.55 556.1,-46.27\"/>\n",
       "<polygon fill=\"black\" stroke=\"black\" points=\"559.45,-45.23 553.69,-36.33 552.65,-46.87 559.45,-45.23\"/>\n",
       "</g>\n",
       "<!-- 4968 -->\n",
       "<g id=\"node15\" class=\"node\">\n",
       "<title>4968</title>\n",
       "<polygon fill=\"#c0c0c0\" stroke=\"black\" points=\"648.5,-36 594.5,-36 594.5,0 648.5,0 648.5,-36\"/>\n",
       "<text text-anchor=\"middle\" x=\"621.5\" y=\"-14.3\" font-family=\"Helvetica,sans-Serif\" font-size=\"14.00\">(...)</text>\n",
       "</g>\n",
       "<!-- 4760&#45;&gt;4968 -->\n",
       "<g id=\"edge14\" class=\"edge\">\n",
       "<title>4760&#45;&gt;4968</title>\n",
       "<path fill=\"none\" stroke=\"black\" d=\"M585.85,-71.8C591.74,-63.08 598.31,-53.34 604.2,-44.63\"/>\n",
       "<polygon fill=\"black\" stroke=\"black\" points=\"607.1,-46.58 609.8,-36.33 601.3,-42.66 607.1,-46.58\"/>\n",
       "</g>\n",
       "</g>\n",
       "</svg>\n"
      ],
      "text/plain": [
       "<graphviz.sources.Source at 0x1ce41ada010>"
      ]
     },
     "metadata": {},
     "output_type": "display_data"
    },
    {
     "data": {
      "image/svg+xml": [
       "<?xml version=\"1.0\" encoding=\"UTF-8\" standalone=\"no\"?>\n",
       "<!DOCTYPE svg PUBLIC \"-//W3C//DTD SVG 1.1//EN\"\n",
       " \"http://www.w3.org/Graphics/SVG/1.1/DTD/svg11.dtd\">\n",
       "<!-- Generated by graphviz version 2.50.0 (0)\n",
       " -->\n",
       "<!-- Title: Tree Pages: 1 -->\n",
       "<svg width=\"713pt\" height=\"311pt\"\n",
       " viewBox=\"0.00 0.00 713.00 311.00\" xmlns=\"http://www.w3.org/2000/svg\" xmlns:xlink=\"http://www.w3.org/1999/xlink\">\n",
       "<g id=\"graph0\" class=\"graph\" transform=\"scale(1 1) rotate(0) translate(4 307)\">\n",
       "<title>Tree</title>\n",
       "<polygon fill=\"white\" stroke=\"transparent\" points=\"-4,4 -4,-307 709,-307 709,4 -4,4\"/>\n",
       "<!-- 0 -->\n",
       "<g id=\"node1\" class=\"node\">\n",
       "<title>0</title>\n",
       "<polygon fill=\"#e4f1fb\" stroke=\"black\" points=\"463.5,-303 265.5,-303 265.5,-250 463.5,-250 463.5,-303\"/>\n",
       "<text text-anchor=\"middle\" x=\"364.5\" y=\"-287.8\" font-family=\"Helvetica,sans-Serif\" font-size=\"14.00\">Air temperature (C) &lt;= 17.065</text>\n",
       "<text text-anchor=\"middle\" x=\"364.5\" y=\"-272.8\" font-family=\"Helvetica,sans-Serif\" font-size=\"14.00\">samples = 100.0%</text>\n",
       "<text text-anchor=\"middle\" x=\"364.5\" y=\"-257.8\" font-family=\"Helvetica,sans-Serif\" font-size=\"14.00\">value = [0.463, 0.537]</text>\n",
       "</g>\n",
       "<!-- 1 -->\n",
       "<g id=\"node2\" class=\"node\">\n",
       "<title>1</title>\n",
       "<polygon fill=\"#fdf4ee\" stroke=\"black\" points=\"354,-214 163,-214 163,-161 354,-161 354,-214\"/>\n",
       "<text text-anchor=\"middle\" x=\"258.5\" y=\"-198.8\" font-family=\"Helvetica,sans-Serif\" font-size=\"14.00\">Air temperature (C) &lt;= 16.95</text>\n",
       "<text text-anchor=\"middle\" x=\"258.5\" y=\"-183.8\" font-family=\"Helvetica,sans-Serif\" font-size=\"14.00\">samples = 7.9%</text>\n",
       "<text text-anchor=\"middle\" x=\"258.5\" y=\"-168.8\" font-family=\"Helvetica,sans-Serif\" font-size=\"14.00\">value = [0.523, 0.477]</text>\n",
       "</g>\n",
       "<!-- 0&#45;&gt;1 -->\n",
       "<g id=\"edge1\" class=\"edge\">\n",
       "<title>0&#45;&gt;1</title>\n",
       "<path fill=\"none\" stroke=\"black\" d=\"M333.27,-249.87C322.16,-240.75 309.49,-230.35 297.79,-220.75\"/>\n",
       "<polygon fill=\"black\" stroke=\"black\" points=\"299.82,-217.89 289.87,-214.25 295.38,-223.3 299.82,-217.89\"/>\n",
       "<text text-anchor=\"middle\" x=\"292.32\" y=\"-235.43\" font-family=\"Helvetica,sans-Serif\" font-size=\"14.00\">True</text>\n",
       "</g>\n",
       "<!-- 520 -->\n",
       "<g id=\"node9\" class=\"node\">\n",
       "<title>520</title>\n",
       "<polygon fill=\"#e0f0fb\" stroke=\"black\" points=\"570.5,-214 372.5,-214 372.5,-161 570.5,-161 570.5,-214\"/>\n",
       "<text text-anchor=\"middle\" x=\"471.5\" y=\"-198.8\" font-family=\"Helvetica,sans-Serif\" font-size=\"14.00\">Air temperature (C) &lt;= 17.075</text>\n",
       "<text text-anchor=\"middle\" x=\"471.5\" y=\"-183.8\" font-family=\"Helvetica,sans-Serif\" font-size=\"14.00\">samples = 92.1%</text>\n",
       "<text text-anchor=\"middle\" x=\"471.5\" y=\"-168.8\" font-family=\"Helvetica,sans-Serif\" font-size=\"14.00\">value = [0.458, 0.542]</text>\n",
       "</g>\n",
       "<!-- 0&#45;&gt;520 -->\n",
       "<g id=\"edge8\" class=\"edge\">\n",
       "<title>0&#45;&gt;520</title>\n",
       "<path fill=\"none\" stroke=\"black\" d=\"M396.02,-249.87C407.24,-240.75 420.02,-230.35 431.84,-220.75\"/>\n",
       "<polygon fill=\"black\" stroke=\"black\" points=\"434.28,-223.27 439.83,-214.25 429.86,-217.84 434.28,-223.27\"/>\n",
       "<text text-anchor=\"middle\" x=\"437.27\" y=\"-235.42\" font-family=\"Helvetica,sans-Serif\" font-size=\"14.00\">False</text>\n",
       "</g>\n",
       "<!-- 2 -->\n",
       "<g id=\"node3\" class=\"node\">\n",
       "<title>2</title>\n",
       "<polygon fill=\"#fefbf9\" stroke=\"black\" points=\"147,-125 0,-125 0,-72 147,-72 147,-125\"/>\n",
       "<text text-anchor=\"middle\" x=\"73.5\" y=\"-109.8\" font-family=\"Helvetica,sans-Serif\" font-size=\"14.00\">Soil Moisture &lt;= 58.5</text>\n",
       "<text text-anchor=\"middle\" x=\"73.5\" y=\"-94.8\" font-family=\"Helvetica,sans-Serif\" font-size=\"14.00\">samples = 7.3%</text>\n",
       "<text text-anchor=\"middle\" x=\"73.5\" y=\"-79.8\" font-family=\"Helvetica,sans-Serif\" font-size=\"14.00\">value = [0.508, 0.492]</text>\n",
       "</g>\n",
       "<!-- 1&#45;&gt;2 -->\n",
       "<g id=\"edge2\" class=\"edge\">\n",
       "<title>1&#45;&gt;2</title>\n",
       "<path fill=\"none\" stroke=\"black\" d=\"M203.99,-160.87C183.01,-151 158.87,-139.65 137.1,-129.41\"/>\n",
       "<polygon fill=\"black\" stroke=\"black\" points=\"138.47,-126.19 127.94,-125.1 135.5,-132.52 138.47,-126.19\"/>\n",
       "</g>\n",
       "<!-- 485 -->\n",
       "<g id=\"node6\" class=\"node\">\n",
       "<title>485</title>\n",
       "<polygon fill=\"#efb388\" stroke=\"black\" points=\"363.5,-125 165.5,-125 165.5,-72 363.5,-72 363.5,-125\"/>\n",
       "<text text-anchor=\"middle\" x=\"264.5\" y=\"-109.8\" font-family=\"Helvetica,sans-Serif\" font-size=\"14.00\">Air temperature (C) &lt;= 17.025</text>\n",
       "<text text-anchor=\"middle\" x=\"264.5\" y=\"-94.8\" font-family=\"Helvetica,sans-Serif\" font-size=\"14.00\">samples = 0.6%</text>\n",
       "<text text-anchor=\"middle\" x=\"264.5\" y=\"-79.8\" font-family=\"Helvetica,sans-Serif\" font-size=\"14.00\">value = [0.716, 0.284]</text>\n",
       "</g>\n",
       "<!-- 1&#45;&gt;485 -->\n",
       "<g id=\"edge5\" class=\"edge\">\n",
       "<title>1&#45;&gt;485</title>\n",
       "<path fill=\"none\" stroke=\"black\" d=\"M260.27,-160.87C260.82,-152.89 261.44,-143.93 262.03,-135.38\"/>\n",
       "<polygon fill=\"black\" stroke=\"black\" points=\"265.53,-135.47 262.72,-125.25 258.54,-134.99 265.53,-135.47\"/>\n",
       "</g>\n",
       "<!-- 3 -->\n",
       "<g id=\"node4\" class=\"node\">\n",
       "<title>3</title>\n",
       "<polygon fill=\"#c0c0c0\" stroke=\"black\" points=\"64.5,-36 10.5,-36 10.5,0 64.5,0 64.5,-36\"/>\n",
       "<text text-anchor=\"middle\" x=\"37.5\" y=\"-14.3\" font-family=\"Helvetica,sans-Serif\" font-size=\"14.00\">(...)</text>\n",
       "</g>\n",
       "<!-- 2&#45;&gt;3 -->\n",
       "<g id=\"edge3\" class=\"edge\">\n",
       "<title>2&#45;&gt;3</title>\n",
       "<path fill=\"none\" stroke=\"black\" d=\"M61.71,-71.8C57.84,-63.35 53.53,-53.95 49.63,-45.45\"/>\n",
       "<polygon fill=\"black\" stroke=\"black\" points=\"52.8,-43.96 45.45,-36.33 46.43,-46.88 52.8,-43.96\"/>\n",
       "</g>\n",
       "<!-- 304 -->\n",
       "<g id=\"node5\" class=\"node\">\n",
       "<title>304</title>\n",
       "<polygon fill=\"#c0c0c0\" stroke=\"black\" points=\"136.5,-36 82.5,-36 82.5,0 136.5,0 136.5,-36\"/>\n",
       "<text text-anchor=\"middle\" x=\"109.5\" y=\"-14.3\" font-family=\"Helvetica,sans-Serif\" font-size=\"14.00\">(...)</text>\n",
       "</g>\n",
       "<!-- 2&#45;&gt;304 -->\n",
       "<g id=\"edge4\" class=\"edge\">\n",
       "<title>2&#45;&gt;304</title>\n",
       "<path fill=\"none\" stroke=\"black\" d=\"M85.29,-71.8C89.16,-63.35 93.47,-53.95 97.37,-45.45\"/>\n",
       "<polygon fill=\"black\" stroke=\"black\" points=\"100.57,-46.88 101.55,-36.33 94.2,-43.96 100.57,-46.88\"/>\n",
       "</g>\n",
       "<!-- 486 -->\n",
       "<g id=\"node7\" class=\"node\">\n",
       "<title>486</title>\n",
       "<polygon fill=\"#c0c0c0\" stroke=\"black\" points=\"272.5,-36 218.5,-36 218.5,0 272.5,0 272.5,-36\"/>\n",
       "<text text-anchor=\"middle\" x=\"245.5\" y=\"-14.3\" font-family=\"Helvetica,sans-Serif\" font-size=\"14.00\">(...)</text>\n",
       "</g>\n",
       "<!-- 485&#45;&gt;486 -->\n",
       "<g id=\"edge6\" class=\"edge\">\n",
       "<title>485&#45;&gt;486</title>\n",
       "<path fill=\"none\" stroke=\"black\" d=\"M258.28,-71.8C256.3,-63.62 254.11,-54.55 252.1,-46.27\"/>\n",
       "<polygon fill=\"black\" stroke=\"black\" points=\"255.45,-45.23 249.69,-36.33 248.65,-46.87 255.45,-45.23\"/>\n",
       "</g>\n",
       "<!-- 503 -->\n",
       "<g id=\"node8\" class=\"node\">\n",
       "<title>503</title>\n",
       "<polygon fill=\"#c0c0c0\" stroke=\"black\" points=\"344.5,-36 290.5,-36 290.5,0 344.5,0 344.5,-36\"/>\n",
       "<text text-anchor=\"middle\" x=\"317.5\" y=\"-14.3\" font-family=\"Helvetica,sans-Serif\" font-size=\"14.00\">(...)</text>\n",
       "</g>\n",
       "<!-- 485&#45;&gt;503 -->\n",
       "<g id=\"edge7\" class=\"edge\">\n",
       "<title>485&#45;&gt;503</title>\n",
       "<path fill=\"none\" stroke=\"black\" d=\"M281.85,-71.8C287.74,-63.08 294.31,-53.34 300.2,-44.63\"/>\n",
       "<polygon fill=\"black\" stroke=\"black\" points=\"303.1,-46.58 305.8,-36.33 297.3,-42.66 303.1,-46.58\"/>\n",
       "</g>\n",
       "<!-- 521 -->\n",
       "<g id=\"node10\" class=\"node\">\n",
       "<title>521</title>\n",
       "<polygon fill=\"#50a9e8\" stroke=\"black\" points=\"540,-125 393,-125 393,-72 540,-72 540,-125\"/>\n",
       "<text text-anchor=\"middle\" x=\"466.5\" y=\"-109.8\" font-family=\"Helvetica,sans-Serif\" font-size=\"14.00\">Soil Moisture &lt;= 33.0</text>\n",
       "<text text-anchor=\"middle\" x=\"466.5\" y=\"-94.8\" font-family=\"Helvetica,sans-Serif\" font-size=\"14.00\">samples = 0.1%</text>\n",
       "<text text-anchor=\"middle\" x=\"466.5\" y=\"-79.8\" font-family=\"Helvetica,sans-Serif\" font-size=\"14.00\">value = [0.105, 0.895]</text>\n",
       "</g>\n",
       "<!-- 520&#45;&gt;521 -->\n",
       "<g id=\"edge9\" class=\"edge\">\n",
       "<title>520&#45;&gt;521</title>\n",
       "<path fill=\"none\" stroke=\"black\" d=\"M470.03,-160.87C469.57,-152.89 469.05,-143.93 468.56,-135.38\"/>\n",
       "<polygon fill=\"black\" stroke=\"black\" points=\"472.05,-135.03 467.98,-125.25 465.06,-135.43 472.05,-135.03\"/>\n",
       "</g>\n",
       "<!-- 528 -->\n",
       "<g id=\"node13\" class=\"node\">\n",
       "<title>528</title>\n",
       "<polygon fill=\"#e0f0fb\" stroke=\"black\" points=\"705,-125 558,-125 558,-72 705,-72 705,-125\"/>\n",
       "<text text-anchor=\"middle\" x=\"631.5\" y=\"-109.8\" font-family=\"Helvetica,sans-Serif\" font-size=\"14.00\">Soil Moisture &lt;= 59.5</text>\n",
       "<text text-anchor=\"middle\" x=\"631.5\" y=\"-94.8\" font-family=\"Helvetica,sans-Serif\" font-size=\"14.00\">samples = 92.0%</text>\n",
       "<text text-anchor=\"middle\" x=\"631.5\" y=\"-79.8\" font-family=\"Helvetica,sans-Serif\" font-size=\"14.00\">value = [0.458, 0.542]</text>\n",
       "</g>\n",
       "<!-- 520&#45;&gt;528 -->\n",
       "<g id=\"edge12\" class=\"edge\">\n",
       "<title>520&#45;&gt;528</title>\n",
       "<path fill=\"none\" stroke=\"black\" d=\"M518.64,-160.87C536.46,-151.18 556.92,-140.05 575.48,-129.96\"/>\n",
       "<polygon fill=\"black\" stroke=\"black\" points=\"577.31,-132.95 584.42,-125.1 573.96,-126.8 577.31,-132.95\"/>\n",
       "</g>\n",
       "<!-- 522 -->\n",
       "<g id=\"node11\" class=\"node\">\n",
       "<title>522</title>\n",
       "<polygon fill=\"#c0c0c0\" stroke=\"black\" points=\"439.5,-36 385.5,-36 385.5,0 439.5,0 439.5,-36\"/>\n",
       "<text text-anchor=\"middle\" x=\"412.5\" y=\"-14.3\" font-family=\"Helvetica,sans-Serif\" font-size=\"14.00\">(...)</text>\n",
       "</g>\n",
       "<!-- 521&#45;&gt;522 -->\n",
       "<g id=\"edge10\" class=\"edge\">\n",
       "<title>521&#45;&gt;522</title>\n",
       "<path fill=\"none\" stroke=\"black\" d=\"M448.82,-71.8C442.82,-63.08 436.12,-53.34 430.13,-44.63\"/>\n",
       "<polygon fill=\"black\" stroke=\"black\" points=\"432.97,-42.59 424.42,-36.33 427.21,-46.55 432.97,-42.59\"/>\n",
       "</g>\n",
       "<!-- 523 -->\n",
       "<g id=\"node12\" class=\"node\">\n",
       "<title>523</title>\n",
       "<polygon fill=\"#c0c0c0\" stroke=\"black\" points=\"511.5,-36 457.5,-36 457.5,0 511.5,0 511.5,-36\"/>\n",
       "<text text-anchor=\"middle\" x=\"484.5\" y=\"-14.3\" font-family=\"Helvetica,sans-Serif\" font-size=\"14.00\">(...)</text>\n",
       "</g>\n",
       "<!-- 521&#45;&gt;523 -->\n",
       "<g id=\"edge11\" class=\"edge\">\n",
       "<title>521&#45;&gt;523</title>\n",
       "<path fill=\"none\" stroke=\"black\" d=\"M472.39,-71.8C474.27,-63.62 476.35,-54.55 478.25,-46.27\"/>\n",
       "<polygon fill=\"black\" stroke=\"black\" points=\"481.7,-46.86 480.53,-36.33 474.88,-45.3 481.7,-46.86\"/>\n",
       "</g>\n",
       "<!-- 529 -->\n",
       "<g id=\"node14\" class=\"node\">\n",
       "<title>529</title>\n",
       "<polygon fill=\"#c0c0c0\" stroke=\"black\" points=\"622.5,-36 568.5,-36 568.5,0 622.5,0 622.5,-36\"/>\n",
       "<text text-anchor=\"middle\" x=\"595.5\" y=\"-14.3\" font-family=\"Helvetica,sans-Serif\" font-size=\"14.00\">(...)</text>\n",
       "</g>\n",
       "<!-- 528&#45;&gt;529 -->\n",
       "<g id=\"edge13\" class=\"edge\">\n",
       "<title>528&#45;&gt;529</title>\n",
       "<path fill=\"none\" stroke=\"black\" d=\"M619.71,-71.8C615.84,-63.35 611.53,-53.95 607.63,-45.45\"/>\n",
       "<polygon fill=\"black\" stroke=\"black\" points=\"610.8,-43.96 603.45,-36.33 604.43,-46.88 610.8,-43.96\"/>\n",
       "</g>\n",
       "<!-- 4392 -->\n",
       "<g id=\"node15\" class=\"node\">\n",
       "<title>4392</title>\n",
       "<polygon fill=\"#c0c0c0\" stroke=\"black\" points=\"694.5,-36 640.5,-36 640.5,0 694.5,0 694.5,-36\"/>\n",
       "<text text-anchor=\"middle\" x=\"667.5\" y=\"-14.3\" font-family=\"Helvetica,sans-Serif\" font-size=\"14.00\">(...)</text>\n",
       "</g>\n",
       "<!-- 528&#45;&gt;4392 -->\n",
       "<g id=\"edge14\" class=\"edge\">\n",
       "<title>528&#45;&gt;4392</title>\n",
       "<path fill=\"none\" stroke=\"black\" d=\"M643.29,-71.8C647.16,-63.35 651.47,-53.95 655.37,-45.45\"/>\n",
       "<polygon fill=\"black\" stroke=\"black\" points=\"658.57,-46.88 659.55,-36.33 652.2,-43.96 658.57,-46.88\"/>\n",
       "</g>\n",
       "</g>\n",
       "</svg>\n"
      ],
      "text/plain": [
       "<graphviz.sources.Source at 0x1ce3e64da90>"
      ]
     },
     "metadata": {},
     "output_type": "display_data"
    }
   ],
   "source": [
    "for i in range(3):\n",
    "    tree = rf.estimators_[i]\n",
    "    dot_data = export_graphviz(tree,\n",
    "                               feature_names=X_train.columns,  \n",
    "                               filled=True,  \n",
    "                               max_depth=2, \n",
    "                               impurity=False, \n",
    "                               proportion=True)\n",
    "    graph = graphviz.Source(dot_data)\n",
    "    display(graph)"
   ]
  },
  {
   "cell_type": "code",
   "execution_count": 346,
   "id": "831c2b89-dccf-4ddb-8270-86c2f513d79a",
   "metadata": {},
   "outputs": [
    {
     "data": {
      "text/html": [
       "<style>#sk-container-id-5 {color: black;background-color: white;}#sk-container-id-5 pre{padding: 0;}#sk-container-id-5 div.sk-toggleable {background-color: white;}#sk-container-id-5 label.sk-toggleable__label {cursor: pointer;display: block;width: 100%;margin-bottom: 0;padding: 0.3em;box-sizing: border-box;text-align: center;}#sk-container-id-5 label.sk-toggleable__label-arrow:before {content: \"▸\";float: left;margin-right: 0.25em;color: #696969;}#sk-container-id-5 label.sk-toggleable__label-arrow:hover:before {color: black;}#sk-container-id-5 div.sk-estimator:hover label.sk-toggleable__label-arrow:before {color: black;}#sk-container-id-5 div.sk-toggleable__content {max-height: 0;max-width: 0;overflow: hidden;text-align: left;background-color: #f0f8ff;}#sk-container-id-5 div.sk-toggleable__content pre {margin: 0.2em;color: black;border-radius: 0.25em;background-color: #f0f8ff;}#sk-container-id-5 input.sk-toggleable__control:checked~div.sk-toggleable__content {max-height: 200px;max-width: 100%;overflow: auto;}#sk-container-id-5 input.sk-toggleable__control:checked~label.sk-toggleable__label-arrow:before {content: \"▾\";}#sk-container-id-5 div.sk-estimator input.sk-toggleable__control:checked~label.sk-toggleable__label {background-color: #d4ebff;}#sk-container-id-5 div.sk-label input.sk-toggleable__control:checked~label.sk-toggleable__label {background-color: #d4ebff;}#sk-container-id-5 input.sk-hidden--visually {border: 0;clip: rect(1px 1px 1px 1px);clip: rect(1px, 1px, 1px, 1px);height: 1px;margin: -1px;overflow: hidden;padding: 0;position: absolute;width: 1px;}#sk-container-id-5 div.sk-estimator {font-family: monospace;background-color: #f0f8ff;border: 1px dotted black;border-radius: 0.25em;box-sizing: border-box;margin-bottom: 0.5em;}#sk-container-id-5 div.sk-estimator:hover {background-color: #d4ebff;}#sk-container-id-5 div.sk-parallel-item::after {content: \"\";width: 100%;border-bottom: 1px solid gray;flex-grow: 1;}#sk-container-id-5 div.sk-label:hover label.sk-toggleable__label {background-color: #d4ebff;}#sk-container-id-5 div.sk-serial::before {content: \"\";position: absolute;border-left: 1px solid gray;box-sizing: border-box;top: 0;bottom: 0;left: 50%;z-index: 0;}#sk-container-id-5 div.sk-serial {display: flex;flex-direction: column;align-items: center;background-color: white;padding-right: 0.2em;padding-left: 0.2em;position: relative;}#sk-container-id-5 div.sk-item {position: relative;z-index: 1;}#sk-container-id-5 div.sk-parallel {display: flex;align-items: stretch;justify-content: center;background-color: white;position: relative;}#sk-container-id-5 div.sk-item::before, #sk-container-id-5 div.sk-parallel-item::before {content: \"\";position: absolute;border-left: 1px solid gray;box-sizing: border-box;top: 0;bottom: 0;left: 50%;z-index: -1;}#sk-container-id-5 div.sk-parallel-item {display: flex;flex-direction: column;z-index: 1;position: relative;background-color: white;}#sk-container-id-5 div.sk-parallel-item:first-child::after {align-self: flex-end;width: 50%;}#sk-container-id-5 div.sk-parallel-item:last-child::after {align-self: flex-start;width: 50%;}#sk-container-id-5 div.sk-parallel-item:only-child::after {width: 0;}#sk-container-id-5 div.sk-dashed-wrapped {border: 1px dashed gray;margin: 0 0.4em 0.5em 0.4em;box-sizing: border-box;padding-bottom: 0.4em;background-color: white;}#sk-container-id-5 div.sk-label label {font-family: monospace;font-weight: bold;display: inline-block;line-height: 1.2em;}#sk-container-id-5 div.sk-label-container {text-align: center;}#sk-container-id-5 div.sk-container {/* jupyter's `normalize.less` sets `[hidden] { display: none; }` but bootstrap.min.css set `[hidden] { display: none !important; }` so we also need the `!important` here to be able to override the default hidden behavior on the sphinx rendered scikit-learn.org. See: https://github.com/scikit-learn/scikit-learn/issues/21755 */display: inline-block !important;position: relative;}#sk-container-id-5 div.sk-text-repr-fallback {display: none;}</style><div id=\"sk-container-id-5\" class=\"sk-top-container\"><div class=\"sk-text-repr-fallback\"><pre>RandomizedSearchCV(cv=5, estimator=RandomForestClassifier(), n_iter=5,\n",
       "                   param_distributions={&#x27;max_depth&#x27;: &lt;scipy.stats._distn_infrastructure.rv_discrete_frozen object at 0x000001CE11661750&gt;,\n",
       "                                        &#x27;n_estimators&#x27;: &lt;scipy.stats._distn_infrastructure.rv_discrete_frozen object at 0x000001CE2D415B90&gt;})</pre><b>In a Jupyter environment, please rerun this cell to show the HTML representation or trust the notebook. <br />On GitHub, the HTML representation is unable to render, please try loading this page with nbviewer.org.</b></div><div class=\"sk-container\" hidden><div class=\"sk-item sk-dashed-wrapped\"><div class=\"sk-label-container\"><div class=\"sk-label sk-toggleable\"><input class=\"sk-toggleable__control sk-hidden--visually\" id=\"sk-estimator-id-13\" type=\"checkbox\" ><label for=\"sk-estimator-id-13\" class=\"sk-toggleable__label sk-toggleable__label-arrow\">RandomizedSearchCV</label><div class=\"sk-toggleable__content\"><pre>RandomizedSearchCV(cv=5, estimator=RandomForestClassifier(), n_iter=5,\n",
       "                   param_distributions={&#x27;max_depth&#x27;: &lt;scipy.stats._distn_infrastructure.rv_discrete_frozen object at 0x000001CE11661750&gt;,\n",
       "                                        &#x27;n_estimators&#x27;: &lt;scipy.stats._distn_infrastructure.rv_discrete_frozen object at 0x000001CE2D415B90&gt;})</pre></div></div></div><div class=\"sk-parallel\"><div class=\"sk-parallel-item\"><div class=\"sk-item\"><div class=\"sk-label-container\"><div class=\"sk-label sk-toggleable\"><input class=\"sk-toggleable__control sk-hidden--visually\" id=\"sk-estimator-id-14\" type=\"checkbox\" ><label for=\"sk-estimator-id-14\" class=\"sk-toggleable__label sk-toggleable__label-arrow\">estimator: RandomForestClassifier</label><div class=\"sk-toggleable__content\"><pre>RandomForestClassifier()</pre></div></div></div><div class=\"sk-serial\"><div class=\"sk-item\"><div class=\"sk-estimator sk-toggleable\"><input class=\"sk-toggleable__control sk-hidden--visually\" id=\"sk-estimator-id-15\" type=\"checkbox\" ><label for=\"sk-estimator-id-15\" class=\"sk-toggleable__label sk-toggleable__label-arrow\">RandomForestClassifier</label><div class=\"sk-toggleable__content\"><pre>RandomForestClassifier()</pre></div></div></div></div></div></div></div></div></div></div>"
      ],
      "text/plain": [
       "RandomizedSearchCV(cv=5, estimator=RandomForestClassifier(), n_iter=5,\n",
       "                   param_distributions={'max_depth': <scipy.stats._distn_infrastructure.rv_discrete_frozen object at 0x000001CE11661750>,\n",
       "                                        'n_estimators': <scipy.stats._distn_infrastructure.rv_discrete_frozen object at 0x000001CE2D415B90>})"
      ]
     },
     "execution_count": 346,
     "metadata": {},
     "output_type": "execute_result"
    }
   ],
   "source": [
    "param_dist = {'n_estimators': randint(50,500),\n",
    "              'max_depth': randint(1,20)}\n",
    "\n",
    "rf = RandomForestClassifier()\n",
    "rand_search = RandomizedSearchCV(rf, \n",
    "                                 param_distributions = param_dist, \n",
    "                                 n_iter=5, \n",
    "                                 cv=5)\n",
    "\n",
    "rand_search.fit(X_train, y_train)"
   ]
  },
  {
   "cell_type": "code",
   "execution_count": 347,
   "id": "877ef40d-f322-45fe-9cef-81b4defd3eb7",
   "metadata": {},
   "outputs": [
    {
     "name": "stdout",
     "output_type": "stream",
     "text": [
      "Best hyperparameters: {'max_depth': 8, 'n_estimators': 156}\n"
     ]
    }
   ],
   "source": [
    "best_rf = rand_search.best_estimator_\n",
    "print('Best hyperparameters:',  rand_search.best_params_)"
   ]
  },
  {
   "cell_type": "code",
   "execution_count": 350,
   "id": "100140ec-cff2-4692-ada1-7e12818f6e34",
   "metadata": {},
   "outputs": [
    {
     "name": "stdout",
     "output_type": "stream",
     "text": [
      "Accuracy: 0.7389915266009168\n",
      "Precision: 0.74735025881193\n",
      "Recall: 0.7802367472979927\n"
     ]
    }
   ],
   "source": [
    "accuracy = accuracy_score(y_test, y_pred)\n",
    "precision = precision_score(y_test, y_pred)\n",
    "recall = recall_score(y_test, y_pred)\n",
    "\n",
    "print(\"Accuracy:\", accuracy)\n",
    "print(\"Precision:\", precision)\n",
    "print(\"Recall:\", recall)"
   ]
  },
  {
   "cell_type": "code",
   "execution_count": 352,
   "id": "476a5f91-e761-493c-9ed6-e526c37b5396",
   "metadata": {},
   "outputs": [
    {
     "data": {
      "image/png": "[encoded data removed]",
      "text/plain": [
       "<Figure size 640x480 with 1 Axes>"
      ]
     },
     "metadata": {},
     "output_type": "display_data"
    }
   ],
   "source": [
    "feature_importances = pd.Series(best_rf.feature_importances_, index=X_train.columns).sort_values(ascending=False)\n",
    "feature_importances.plot.bar();"
   ]
  },
  {
   "cell_type": "code",
   "execution_count": 356,
   "id": "813680ad-a710-4139-9c0c-ca3d34fded89",
   "metadata": {},
   "outputs": [
    {
     "name": "stdout",
     "output_type": "stream",
     "text": [
      "Best Parameters for Random Forest: {'max_depth': 10, 'max_features': 'sqrt', 'min_samples_leaf': 4, 'min_samples_split': 2, 'n_estimators': 100}\n",
      "Random Forest Accuracy: 0.740102792054452\n",
      "              precision    recall  f1-score   support\n",
      "\n",
      "           0       0.74      0.67      0.70      3313\n",
      "           1       0.74      0.80      0.77      3886\n",
      "\n",
      "    accuracy                           0.74      7199\n",
      "   macro avg       0.74      0.73      0.74      7199\n",
      "weighted avg       0.74      0.74      0.74      7199\n",
      "\n"
     ]
    }
   ],
   "source": [
    "from sklearn.ensemble import RandomForestClassifier\n",
    "from sklearn.model_selection import GridSearchCV\n",
    "\n",
    "# Initialize and train Random Forest model\n",
    "rf_clf = RandomForestClassifier(n_estimators=100, random_state=42)\n",
    "rf_clf.fit(X_train, y_train)\n",
    "\n",
    "param_grid_rf = {\n",
    "    'n_estimators': [50, 100],\n",
    "    'max_depth': [None, 10, 20],\n",
    "    'min_samples_split': [2, 5, 10],\n",
    "    'min_samples_leaf': [1, 2, 4],\n",
    "    'max_features': ['sqrt', 'log2']\n",
    "}\n",
    "\n",
    "grid_rf = GridSearchCV(RandomForestClassifier(random_state=42), param_grid_rf, cv=5)\n",
    "grid_rf.fit(X_train, y_train)\n",
    "print(\"Best Parameters for Random Forest:\", grid_rf.best_params_)\n",
    "\n",
    "# Predict and evaluate\n",
    "y_pred_rf = rf_clf.predict(X_test)\n",
    "accuracy_rf = accuracy_score(y_test, y_pred_rf)\n",
    "print(\"Random Forest Accuracy:\", accuracy_rf)\n",
    "print(classification_report(y_test, y_pred_rf))"
   ]
  },
  {
   "cell_type": "code",
   "execution_count": null,
   "id": "03575ca2-ac65-4f5d-b531-3f801831875b",
   "metadata": {},
   "outputs": [],
   "source": []
  },
  {
   "cell_type": "code",
   "execution_count": null,
   "id": "c2367b8a-fdf6-40a3-9b34-d6caebd6e83a",
   "metadata": {},
   "outputs": [],
   "source": []
  },
  {
   "cell_type": "code",
   "execution_count": null,
   "id": "527e0e89-d406-42b3-b73f-16ef502a794a",
   "metadata": {},
   "outputs": [],
   "source": []
  },
  {
   "cell_type": "code",
   "execution_count": null,
   "id": "17d06267-94aa-4e0e-87d2-fc2e1f7e4895",
   "metadata": {},
   "outputs": [],
   "source": []
  },
  {
   "cell_type": "code",
   "execution_count": null,
   "id": "fd4a7627-b38e-472b-995f-7cab98ce104a",
   "metadata": {},
   "outputs": [],
   "source": []
  }
 ],
 "metadata": {
  "kernelspec": {
   "display_name": "Python 3 (ipykernel)",
   "language": "python",
   "name": "python3"
  },
  "language_info": {
   "codemirror_mode": {
    "name": "ipython",
    "version": 3
   },
   "file_extension": ".py",
   "mimetype": "text/x-python",
   "name": "python",
   "nbconvert_exporter": "python",
   "pygments_lexer": "ipython3",
   "version": "3.11.7"
  }
 },
 "nbformat": 4,
 "nbformat_minor": 5
}
