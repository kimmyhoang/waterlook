{
 "cells": [
  {
   "cell_type": "markdown",
   "metadata": {},
   "source": [
    "# Hyperparameter Tuning Using Feature Set 2\n",
    "\n",
    "---\n",
    "\n",
    "**Feature Set 2** includes:\n",
    "\n",
    "- **Soil Moisture**\n",
    "- **Temperature**\n",
    "- **Soil Humidity**\n",
    "- **Air temperature (C)**\n",
    "- **Wind speed (Km/h)**\n",
    "- **Pressure (KPa)**\n",
    "\n",
    "The dataset used for this analysis is available [here](https://www.kaggle.com/datasets/nelakurthisudheer/dataset-for-predicting-watering-the-plants).\n",
    "\n",
    "## Importing Libraries\n",
    "\n",
    "Import necessary libraries and do basic set up"
   ]
  },
  {
   "cell_type": "code",
   "execution_count": 20,
   "metadata": {},
   "outputs": [],
   "source": [
    "import pandas as pd\n",
    "import numpy as np\n",
    "import matplotlib.pyplot as plt\n",
    "import seaborn as sns\n",
    "\n",
    "from sklearn.model_selection import train_test_split\n",
    "from sklearn.linear_model import LogisticRegression\n",
    "from sklearn.naive_bayes import GaussianNB\n",
    "from sklearn.ensemble import RandomForestClassifier\n",
    "from sklearn.metrics import (\n",
    "    accuracy_score, \n",
    "    precision_score, \n",
    "    recall_score, \n",
    "    f1_score, \n",
    "    confusion_matrix, \n",
    "    classification_report, \n",
    "    roc_curve, \n",
    "    auc\n",
    ")\n",
    "\n",
    "# For handling warnings\n",
    "import warnings\n",
    "warnings.filterwarnings('ignore')"
   ]
  },
  {
   "cell_type": "markdown",
   "metadata": {},
   "source": [
    "## Data Preparation and Feature Selection"
   ]
  },
  {
   "cell_type": "code",
   "execution_count": 22,
   "metadata": {},
   "outputs": [],
   "source": [
    "df = pd.read_csv('soil_data.csv')\n",
    "required_columns = ['Soil Moisture', 'Temperature', 'Soil Humidity', 'Air temperature (C)', 'Wind speed (Km/h)', 'Pressure (KPa)', 'Status']\n",
    "df = df.dropna(subset=required_columns)\n",
    "df['Status'] = df['Status'].map({'OFF': 0, 'ON': 1})\n",
    "\n",
    "fs2 = ['Soil Moisture', 'Temperature', 'Soil Humidity', 'Air temperature (C)', 'Wind speed (Km/h)', 'Pressure (KPa)'] \n",
    "\n",
    "X = df[fs2]\n",
    "y = df['Status']"
   ]
  },
  {
   "cell_type": "code",
   "execution_count": 23,
   "metadata": {},
   "outputs": [
    {
     "name": "stdout",
     "output_type": "stream",
     "text": [
      "Training set size: 16796 samples\n",
      "Evaluation set size: 7199 samples\n"
     ]
    }
   ],
   "source": [
    "X_train, X_test, y_train, y_test = train_test_split(\n",
    "    X, y, \n",
    "    test_size=0.3, \n",
    "    random_state=42, \n",
    "    stratify=y\n",
    ")\n",
    "\n",
    "print(f\"Training set size: {X_train.shape[0]} samples\")\n",
    "print(f\"Evaluation set size: {X_test.shape[0]} samples\")"
   ]
  },
  {
   "cell_type": "markdown",
   "metadata": {},
   "source": [
    "## Logistic Regression\n"
   ]
  },
  {
   "cell_type": "markdown",
   "metadata": {},
   "source": [
    "### Tuning Hyperparameters\n"
   ]
  },
  {
   "cell_type": "code",
   "execution_count": 26,
   "metadata": {},
   "outputs": [
    {
     "name": "stdout",
     "output_type": "stream",
     "text": [
      "Fitting 5 folds for each of 1000 candidates, totalling 5000 fits\n",
      "Best Parameters: {'logreg__C': 0.011645350769623948, 'logreg__class_weight': None, 'logreg__fit_intercept': False, 'logreg__intercept_scaling': 0.9578379189874205, 'logreg__max_iter': 1000, 'logreg__multi_class': 'auto', 'logreg__penalty': 'l1', 'logreg__solver': 'saga', 'logreg__tol': 3.660337867013151e-05}\n",
      "Best Precision Score: 0.7372\n"
     ]
    }
   ],
   "source": [
    "import numpy as np\n",
    "import pandas as pd\n",
    "from sklearn.linear_model import LogisticRegression\n",
    "from sklearn.model_selection import RandomizedSearchCV\n",
    "from sklearn.pipeline import Pipeline\n",
    "from sklearn.preprocessing import StandardScaler, MinMaxScaler, RobustScaler\n",
    "from scipy.stats import uniform, loguniform\n",
    "\n",
    "# Define a pipeline with scaling and logistic regression\n",
    "pipeline = Pipeline([\n",
    "    ('scaler', StandardScaler()),  # This will be set via hyperparameters\n",
    "    ('logreg', LogisticRegression())\n",
    "])\n",
    "\n",
    "# Define expanded parameter distributions with a larger variety of hyperparameters\n",
    "param_distributions = [\n",
    "    # Elastic Net Penalty\n",
    "    {\n",
    "        'logreg__penalty': ['elasticnet'],\n",
    "        'logreg__solver': ['saga'],\n",
    "        'logreg__C': loguniform(1e-5, 1e2),\n",
    "        'logreg__l1_ratio': uniform(0.1, 0.9),\n",
    "        'logreg__class_weight': [None, 'balanced'],\n",
    "        'logreg__fit_intercept': [True, False],\n",
    "        'logreg__intercept_scaling': uniform(0.1, 2.0),\n",
    "        'logreg__tol': loguniform(1e-6, 1e-3),\n",
    "        'logreg__max_iter': [100, 200, 500, 1000, 2000],\n",
    "        'logreg__multi_class': ['auto', 'ovr', 'multinomial']\n",
    "    },\n",
    "    # L1 Penalty\n",
    "    {\n",
    "        'logreg__penalty': ['l1'],\n",
    "        'logreg__solver': ['liblinear', 'saga'],\n",
    "        'logreg__C': loguniform(1e-5, 1e2),\n",
    "        'logreg__class_weight': [None, 'balanced'],\n",
    "        'logreg__fit_intercept': [True, False],\n",
    "        'logreg__intercept_scaling': uniform(0.1, 2.0),\n",
    "        'logreg__tol': loguniform(1e-6, 1e-3),\n",
    "        'logreg__max_iter': [100, 200, 500, 1000, 2000],\n",
    "        'logreg__multi_class': ['auto']\n",
    "    },\n",
    "    # L2 Penalty\n",
    "    {\n",
    "        'logreg__penalty': ['l2'],\n",
    "        'logreg__solver': ['lbfgs', 'liblinear', 'newton-cg', 'sag', 'saga'],\n",
    "        'logreg__C': loguniform(1e-5, 1e2),\n",
    "        'logreg__class_weight': [None, 'balanced'],\n",
    "        'logreg__fit_intercept': [True, False],\n",
    "        'logreg__dual': [False],\n",
    "        'logreg__intercept_scaling': uniform(0.1, 2.0),\n",
    "        'logreg__tol': loguniform(1e-6, 1e-3),\n",
    "        'logreg__max_iter': [100, 200, 500, 1000, 2000],\n",
    "        'logreg__multi_class': ['auto', 'ovr', 'multinomial']\n",
    "    },\n",
    "    # No Penalty\n",
    "    {\n",
    "        'logreg__penalty': ['none'],\n",
    "        'logreg__solver': ['lbfgs', 'newton-cg', 'sag', 'saga'],\n",
    "        'logreg__class_weight': [None, 'balanced'],\n",
    "        'logreg__fit_intercept': [True, False],\n",
    "        'logreg__intercept_scaling': uniform(0.1, 2.0),\n",
    "        'logreg__tol': loguniform(1e-6, 1e-3),\n",
    "        'logreg__max_iter': [100, 200, 500, 1000, 2000],\n",
    "        'logreg__multi_class': ['auto', 'ovr', 'multinomial']\n",
    "    },\n",
    "    # Scaling Methods\n",
    "    {\n",
    "        'scaler': [StandardScaler(), MinMaxScaler(), RobustScaler()],\n",
    "        'logreg__penalty': ['l1', 'l2'],\n",
    "        'logreg__solver': ['liblinear', 'saga'],\n",
    "        'logreg__C': loguniform(1e-5, 1e2),\n",
    "        'logreg__class_weight': [None, 'balanced'],\n",
    "        'logreg__fit_intercept': [True, False],\n",
    "        'logreg__intercept_scaling': uniform(0.1, 2.0),\n",
    "        'logreg__tol': loguniform(1e-6, 1e-3),\n",
    "        'logreg__max_iter': [100, 200, 500, 1000, 2000],\n",
    "        'logreg__multi_class': ['auto']\n",
    "    }\n",
    "]\n",
    "\n",
    "# Initialize RandomizedSearchCV with expanded parameter distributions\n",
    "random_search = RandomizedSearchCV(\n",
    "    estimator=pipeline,\n",
    "    param_distributions=param_distributions,\n",
    "    n_iter=1000,  # Further increased iterations for a more exhaustive search\n",
    "    scoring='precision',\n",
    "    cv=5,\n",
    "    n_jobs=-1,\n",
    "    random_state=42,\n",
    "    verbose=2\n",
    ")\n",
    "\n",
    "# Fit the model\n",
    "random_search.fit(X_train, y_train)\n",
    "\n",
    "# Get the best model\n",
    "logreg = random_search.best_estimator_\n",
    "\n",
    "# Print the best parameters and best score\n",
    "print(f\"Best Parameters: {random_search.best_params_}\")\n",
    "print(f\"Best Precision Score: {random_search.best_score_:.4f}\")\n"
   ]
  },
  {
   "cell_type": "markdown",
   "metadata": {},
   "source": [
    "### Training Evaluations"
   ]
  },
  {
   "cell_type": "code",
   "execution_count": 28,
   "metadata": {},
   "outputs": [
    {
     "name": "stdout",
     "output_type": "stream",
     "text": [
      "Logistic Regression Training Performance Metrics:\n",
      "Accuracy : 0.6971\n",
      "Precision: 0.7380\n",
      "Recall   : 0.6820\n",
      "F1-Score : 0.7089\n"
     ]
    }
   ],
   "source": [
    "# make predictions on training set\n",
    "y_train_pred_logreg = logreg.predict(X_train)\n",
    "\n",
    "# calculate training evaluation metrics\n",
    "train_accuracy_logreg = accuracy_score(y_train, y_train_pred_logreg)\n",
    "train_precision_logreg = precision_score(y_train, y_train_pred_logreg)\n",
    "train_recall_logreg = recall_score(y_train, y_train_pred_logreg)\n",
    "train_f1_logreg = f1_score(y_train, y_train_pred_logreg)\n",
    "\n",
    "# display training metrics\n",
    "print(\"Logistic Regression Training Performance Metrics:\")\n",
    "print(f\"Accuracy : {train_accuracy_logreg:.4f}\")\n",
    "print(f\"Precision: {train_precision_logreg:.4f}\")\n",
    "print(f\"Recall   : {train_recall_logreg:.4f}\")\n",
    "print(f\"F1-Score : {train_f1_logreg:.4f}\")"
   ]
  },
  {
   "cell_type": "markdown",
   "metadata": {},
   "source": [
    "### Evaluation - Accuracy, Precision, Recall and F1-Score"
   ]
  },
  {
   "cell_type": "code",
   "execution_count": 30,
   "metadata": {},
   "outputs": [
    {
     "name": "stdout",
     "output_type": "stream",
     "text": [
      "Logistic Regression Performance Metrics:\n",
      "Accuracy : 0.6865\n",
      "Precision: 0.7302\n",
      "Recall   : 0.6662\n",
      "F1-Score : 0.6968\n"
     ]
    }
   ],
   "source": [
    "# make predictions on test set, then predict on ROC Curve\n",
    "y_pred_logreg = logreg.predict(X_test)\n",
    "y_prob_logreg = logreg.predict_proba(X_test)[:, 1]\n",
    "\n",
    "# calculate evaluation metrics\n",
    "accuracy_logreg = accuracy_score(y_test, y_pred_logreg)\n",
    "precision_logreg = precision_score(y_test, y_pred_logreg)\n",
    "recall_logreg = recall_score(y_test, y_pred_logreg)\n",
    "f1_logreg = f1_score(y_test, y_pred_logreg)\n",
    "\n",
    "# display metrics\n",
    "print(\"Logistic Regression Performance Metrics:\")\n",
    "print(f\"Accuracy : {accuracy_logreg:.4f}\")\n",
    "print(f\"Precision: {precision_logreg:.4f}\")\n",
    "print(f\"Recall   : {recall_logreg:.4f}\")\n",
    "print(f\"F1-Score : {f1_logreg:.4f}\")\n"
   ]
  },
  {
   "cell_type": "markdown",
   "metadata": {},
   "source": [
    "### Confusion Matrix"
   ]
  },
  {
   "cell_type": "code",
   "execution_count": 32,
   "metadata": {},
   "outputs": [
    {
     "data": {
      "image/png": "[encoded data removed]",
      "text/plain": [
       "<Figure size 600x400 with 2 Axes>"
      ]
     },
     "metadata": {},
     "output_type": "display_data"
    }
   ],
   "source": [
    "cm_logreg = confusion_matrix(y_test, y_pred_logreg)\n",
    "\n",
    "# plot confusion matrix\n",
    "plt.figure(figsize=(6,4))\n",
    "sns.heatmap(cm_logreg, annot=True, fmt='d', cmap='Blues', xticklabels=['OFF', 'ON'], yticklabels=['OFF', 'ON'])\n",
    "plt.ylabel('Actual')\n",
    "plt.xlabel('Predicted')\n",
    "plt.title('Confusion Matrix - Logistic Regression')\n",
    "plt.show()\n"
   ]
  },
  {
   "cell_type": "markdown",
   "metadata": {},
   "source": [
    "### Classification Reports"
   ]
  },
  {
   "cell_type": "code",
   "execution_count": 34,
   "metadata": {},
   "outputs": [
    {
     "name": "stdout",
     "output_type": "stream",
     "text": [
      "Classification Report - Logistic Regression:\n",
      "              precision    recall  f1-score   support\n",
      "\n",
      "         OFF       0.64      0.71      0.68      3307\n",
      "          ON       0.73      0.67      0.70      3892\n",
      "\n",
      "    accuracy                           0.69      7199\n",
      "   macro avg       0.69      0.69      0.69      7199\n",
      "weighted avg       0.69      0.69      0.69      7199\n",
      "\n"
     ]
    }
   ],
   "source": [
    "print(\"Classification Report - Logistic Regression:\")\n",
    "print(classification_report(y_test, y_pred_logreg, target_names=['OFF', 'ON']))\n"
   ]
  },
  {
   "cell_type": "markdown",
   "metadata": {},
   "source": [
    "### ROC Curve"
   ]
  },
  {
   "cell_type": "code",
   "execution_count": 36,
   "metadata": {},
   "outputs": [
    {
     "data": {
      "image/png": "[encoded data removed]",
      "text/plain": [
       "<Figure size 800x600 with 1 Axes>"
      ]
     },
     "metadata": {},
     "output_type": "display_data"
    }
   ],
   "source": [
    "#compute ROC curve and AUC\n",
    "fpr_logreg, tpr_logreg, thresholds_logreg = roc_curve(y_test, y_prob_logreg)\n",
    "roc_auc_logreg = auc(fpr_logreg, tpr_logreg)\n",
    "\n",
    "# plot the ROC curve\n",
    "plt.figure(figsize=(8,6))\n",
    "plt.plot(fpr_logreg, tpr_logreg, color='darkorange', lw=2, label=f'Logistic Regression ROC curve (AUC = {roc_auc_logreg:.2f})')\n",
    "plt.plot([0,1], [0,1], color='navy', lw=2, linestyle='--')\n",
    "plt.xlim([0.0, 1.0])\n",
    "plt.ylim([0.0, 1.05])\n",
    "plt.xlabel('False Positive Rate')\n",
    "plt.ylabel('True Positive Rate')\n",
    "plt.title('Receiver Operating Characteristic (ROC) Curve - Logistic Regression')\n",
    "plt.legend(loc=\"lower right\")\n",
    "plt.show()\n"
   ]
  },
  {
   "cell_type": "markdown",
   "metadata": {},
   "source": [
    "## Random Forest"
   ]
  },
  {
   "cell_type": "markdown",
   "metadata": {},
   "source": [
    "### Training Model"
   ]
  },
  {
   "cell_type": "code",
   "execution_count": 39,
   "metadata": {},
   "outputs": [
    {
     "ename": "ModuleNotFoundError",
     "evalue": "No module named 'optuna'",
     "output_type": "error",
     "traceback": [
      "\u001b[1;31m---------------------------------------------------------------------------\u001b[0m",
      "\u001b[1;31mModuleNotFoundError\u001b[0m                       Traceback (most recent call last)",
      "Cell \u001b[1;32mIn[39], line 1\u001b[0m\n\u001b[1;32m----> 1\u001b[0m \u001b[38;5;28;01mimport\u001b[39;00m \u001b[38;5;21;01moptuna\u001b[39;00m\n\u001b[0;32m      2\u001b[0m \u001b[38;5;28;01mfrom\u001b[39;00m \u001b[38;5;21;01msklearn\u001b[39;00m\u001b[38;5;21;01m.\u001b[39;00m\u001b[38;5;21;01mensemble\u001b[39;00m \u001b[38;5;28;01mimport\u001b[39;00m RandomForestClassifier\n\u001b[0;32m      3\u001b[0m \u001b[38;5;28;01mfrom\u001b[39;00m \u001b[38;5;21;01msklearn\u001b[39;00m\u001b[38;5;21;01m.\u001b[39;00m\u001b[38;5;21;01mmodel_selection\u001b[39;00m \u001b[38;5;28;01mimport\u001b[39;00m cross_val_score, StratifiedKFold\n",
      "\u001b[1;31mModuleNotFoundError\u001b[0m: No module named 'optuna'"
     ]
    }
   ],
   "source": [
    "import optuna\n",
    "from sklearn.ensemble import RandomForestClassifier\n",
    "from sklearn.model_selection import cross_val_score, StratifiedKFold\n",
    "from sklearn.metrics import precision_score\n",
    "from sklearn.pipeline import Pipeline\n",
    "from sklearn.preprocessing import StandardScaler\n",
    "import numpy as np\n",
    "\n",
    "# Optional: If you decide to use SMOTE\n",
    "USE_SMOTE = False  # Set to True if you want to apply SMOTE\n",
    "\n",
    "def objective(trial):\n",
    "    # Adjusted hyperparameter search space based on previous best results\n",
    "    n_estimators = trial.suggest_int('n_estimators', 900, 1000)            # Focus around 974\n",
    "    max_depth = trial.suggest_int('max_depth', 4, 10)                      # Lower values to reduce overfitting\n",
    "    min_samples_split = trial.suggest_int('min_samples_split', 15, 25)     # Around 20\n",
    "    min_samples_leaf = trial.suggest_int('min_samples_leaf', 15, 25)       # Around 20\n",
    "    max_features = trial.suggest_categorical('max_features', ['log2'])     # 'log2' was best\n",
    "    bootstrap = trial.suggest_categorical('bootstrap', [True])             # True was best\n",
    "    criterion = trial.suggest_categorical('criterion', ['entropy'])        # 'entropy' was best\n",
    "    class_weight = trial.suggest_categorical('class_weight', ['balanced']) # 'balanced' was best\n",
    "\n",
    "    # Initialize the classifier with current trial's hyperparameters\n",
    "    clf = RandomForestClassifier(\n",
    "        n_estimators=n_estimators,\n",
    "        max_depth=max_depth,\n",
    "        min_samples_split=min_samples_split,\n",
    "        min_samples_leaf=min_samples_leaf,\n",
    "        max_features=max_features,\n",
    "        bootstrap=bootstrap,\n",
    "        criterion=criterion,\n",
    "        class_weight=class_weight,\n",
    "        random_state=42,\n",
    "        n_jobs=-1\n",
    "    )\n",
    "    \n",
    "    # Create a pipeline\n",
    "    pipeline = Pipeline([\n",
    "        ('scaler', StandardScaler()),\n",
    "        ('clf', clf)\n",
    "    ])\n",
    "    \n",
    "    # Define cross-validation strategy with StratifiedKFold\n",
    "    cv = StratifiedKFold(n_splits=5, shuffle=True, random_state=42)\n",
    "    \n",
    "    # Evaluate using cross-validated precision without SMOTE\n",
    "    precision = cross_val_score(\n",
    "        pipeline, X_train, y_train,\n",
    "        cv=cv,\n",
    "        scoring='precision',\n",
    "        n_jobs=-1\n",
    "    ).mean()\n",
    "    \n",
    "    return precision\n",
    "\n",
    "# Create a study object with MedianPruner for early stopping\n",
    "pruner = optuna.pruners.MedianPruner(n_startup_trials=5, n_warmup_steps=10)\n",
    "study = optuna.create_study(direction='maximize', pruner=pruner)\n",
    "\n",
    "# Optimize the objective function with adjusted search space\n",
    "study.optimize(objective, n_trials=25, n_jobs=1, show_progress_bar=True)\n",
    "\n",
    "# Get the best trial\n",
    "best_trial = study.best_trial\n",
    "best_params = best_trial.params\n",
    "best_precision = best_trial.value\n",
    "\n",
    "# Initialize the Random Forest classifier with best parameters\n",
    "rf_best = RandomForestClassifier(\n",
    "    n_estimators=best_params['n_estimators'],\n",
    "    max_depth=best_params['max_depth'],\n",
    "    min_samples_split=best_params['min_samples_split'],\n",
    "    min_samples_leaf=best_params['min_samples_leaf'],\n",
    "    max_features=best_params['max_features'],\n",
    "    bootstrap=best_params['bootstrap'],\n",
    "    criterion=best_params['criterion'],\n",
    "    class_weight=best_params['class_weight'],\n",
    "    random_state=42,\n",
    "    n_jobs=-1\n",
    ")\n",
    "\n",
    "# Create the final pipeline\n",
    "final_pipeline = Pipeline([\n",
    "    ('scaler', StandardScaler()),\n",
    "    ('clf', rf_best)\n",
    "])\n",
    "\n",
    "# Fit the best model on the entire training set\n",
    "final_pipeline.fit(X_train, y_train)\n",
    "\n",
    "# Predict on the test set\n",
    "y_pred = final_pipeline.predict(X_test)\n",
    "\n",
    "# Calculate precision on the test set\n",
    "test_precision = precision_score(y_test, y_pred, zero_division=0)\n",
    "\n",
    "# Print the best parameters and best precision score from cross-validation\n",
    "print(f\"Best Parameters: {best_params}\")\n",
    "print(f\"Best Cross-Validated Precision Score: {best_precision:.4f}\")\n",
    "\n",
    "# Print the precision score on the test set\n",
    "print(f\"Test Precision Score: {test_precision:.4f}\")"
   ]
  },
  {
   "cell_type": "markdown",
   "metadata": {},
   "source": [
    "### Training Evaluation"
   ]
  },
  {
   "cell_type": "code",
   "execution_count": null,
   "metadata": {},
   "outputs": [],
   "source": [
    "# make predictions on training set\n",
    "y_train_pred_rf = final_pipeline.predict(X_train)\n",
    "\n",
    "# calculate training evaluation metrics\n",
    "train_accuracy_rf = accuracy_score(y_train, y_train_pred_rf)\n",
    "train_precision_rf = precision_score(y_train, y_train_pred_rf)\n",
    "train_recall_rf = recall_score(y_train, y_train_pred_rf)\n",
    "train_f1_rf = f1_score(y_train, y_train_pred_rf)\n",
    "\n",
    "# display training metrics\n",
    "print(\"Random Forest Training Performance Metrics:\")\n",
    "print(f\"Accuracy : {train_accuracy_rf:.4f}\")\n",
    "print(f\"Precision: {train_precision_rf:.4f}\")\n",
    "print(f\"Recall   : {train_recall_rf:.4f}\")\n",
    "print(f\"F1-Score : {train_f1_rf:.4f}\")"
   ]
  },
  {
   "cell_type": "markdown",
   "metadata": {},
   "source": [
    "### Evaluation - Accuracy, Precision, Recall and F1-Score"
   ]
  },
  {
   "cell_type": "code",
   "execution_count": null,
   "metadata": {},
   "outputs": [],
   "source": [
    "# predict then evaluate\n",
    "y_pred_rf = final_pipeline.predict(X_test)\n",
    "\n",
    "# calc evaluation metrics\n",
    "accuracy_rf = accuracy_score(y_test, y_pred_rf)\n",
    "precision_rf = precision_score(y_test, y_pred_rf)\n",
    "recall_rf = recall_score(y_test, y_pred_rf)\n",
    "f1_rf = f1_score(y_test, y_pred_rf)\n",
    "\n",
    "# display the metrics\n",
    "print(f\"Accuracy : {accuracy_rf:.4f}\")\n",
    "print(f\"Precision: {precision_rf:.4f}\")\n",
    "print(f\"Recall   : {recall_rf:.4f}\")\n",
    "print(f\"F1-Score : {f1_rf:.4f}\")"
   ]
  },
  {
   "cell_type": "markdown",
   "metadata": {},
   "source": [
    "### Confusion Matrix\n"
   ]
  },
  {
   "cell_type": "code",
   "execution_count": null,
   "metadata": {},
   "outputs": [],
   "source": [
    "# gen  confusion matrix for Random Forest\n",
    "cm_rf = confusion_matrix(y_test, y_pred_rf)\n",
    "\n",
    "# plot the confusion matrix\n",
    "plt.figure(figsize=(6,4))\n",
    "sns.heatmap(cm_rf, annot=True, fmt='d', cmap='Oranges', xticklabels=['OFF', 'ON'], yticklabels=['OFF', 'ON'])\n",
    "plt.ylabel('Actual')\n",
    "plt.xlabel('Predicted')\n",
    "plt.title('Confusion Matrix - Random Forest')\n",
    "plt.show()"
   ]
  },
  {
   "cell_type": "markdown",
   "metadata": {},
   "source": [
    "### Classification Reports"
   ]
  },
  {
   "cell_type": "code",
   "execution_count": null,
   "metadata": {},
   "outputs": [],
   "source": [
    "print(\"Classification Report - Random Forest:\")\n",
    "print(classification_report(y_test, y_pred_rf, target_names=['OFF', 'ON']))"
   ]
  },
  {
   "cell_type": "markdown",
   "metadata": {},
   "source": [
    "### ROC Curve"
   ]
  },
  {
   "cell_type": "code",
   "execution_count": null,
   "metadata": {},
   "outputs": [],
   "source": [
    "# Predict probabilities for ROC curve\n",
    "y_prob_rf = final_pipeline.predict_proba(X_test)[:, 1]\n",
    "\n",
    "# Compute ROC curve and AUC\n",
    "fpr_rf, tpr_rf, thresholds_rf = roc_curve(y_test, y_prob_rf)\n",
    "roc_auc_rf = auc(fpr_rf, tpr_rf)\n",
    "\n",
    "# Plot the ROC curve\n",
    "plt.figure(figsize=(8,6))\n",
    "plt.plot(fpr_rf, tpr_rf, color='blue', lw=2, label=f'Random Forest ROC curve (AUC = {roc_auc_rf:.2f})')\n",
    "plt.plot([0,1], [0,1], color='navy', lw=2, linestyle='--')\n",
    "plt.xlim([0.0, 1.0])\n",
    "plt.ylim([0.0, 1.05])\n",
    "plt.xlabel('False Positive Rate')\n",
    "plt.ylabel('True Positive Rate')\n",
    "plt.title('Receiver Operating Characteristic (ROC) Curve - Random Forest')\n",
    "plt.legend(loc=\"lower right\")\n",
    "plt.show()"
   ]
  },
  {
   "cell_type": "markdown",
   "metadata": {},
   "source": [
    "## Naive Bayes"
   ]
  },
  {
   "cell_type": "markdown",
   "metadata": {},
   "source": [
    "### Training Model"
   ]
  },
  {
   "cell_type": "code",
   "execution_count": null,
   "metadata": {},
   "outputs": [],
   "source": [
    "# Import Necessary Libraries\n",
    "import numpy as np\n",
    "from sklearn.naive_bayes import GaussianNB\n",
    "from sklearn.preprocessing import StandardScaler, MinMaxScaler, RobustScaler, PolynomialFeatures\n",
    "from sklearn.decomposition import PCA\n",
    "from sklearn.pipeline import Pipeline\n",
    "from sklearn.model_selection import RandomizedSearchCV, StratifiedKFold\n",
    "from sklearn.metrics import precision_score, accuracy_score, recall_score, f1_score, classification_report, confusion_matrix, make_scorer\n",
    "from scipy.stats import loguniform\n",
    "import warnings\n",
    "\n",
    "# Suppress warnings for cleaner output\n",
    "warnings.filterwarnings('ignore')\n",
    "\n",
    "# Assuming X_train, y_train, X_test, y_test are already defined\n",
    "# Example:\n",
    "# from sklearn.datasets import make_classification\n",
    "# X, y = make_classification(n_samples=1000, n_features=4, n_classes=2, random_state=42)\n",
    "# from sklearn.model_selection import train_test_split\n",
    "# X_train, X_test, y_train, y_test = train_test_split(X, y, test_size=0.2, random_state=42)\n",
    "\n",
    "# Define the pipeline steps with optional PolynomialFeatures\n",
    "pipeline = Pipeline([\n",
    "    ('scaler', 'passthrough'),  # Placeholder, will be set in hyperparameter tuning\n",
    "    ('pca', 'passthrough'),     # Placeholder, will be set in hyperparameter tuning\n",
    "    ('poly', 'passthrough'),    # Placeholder for PolynomialFeatures\n",
    "    ('gnb', GaussianNB())       # Placeholder, will be set in hyperparameter tuning\n",
    "])\n",
    "\n",
    "# Define the parameter distributions\n",
    "param_dist = {\n",
    "    # Feature scaling options\n",
    "    'scaler': [StandardScaler(), MinMaxScaler(), RobustScaler(), 'passthrough'],\n",
    "    \n",
    "    # PCA options: apply PCA with n_components from 1 to 4 or skip PCA\n",
    "    'pca': [PCA(n_components=i, random_state=42) for i in range(1, 5)] + ['passthrough'],\n",
    "    \n",
    "    # Polynomial Features options: apply PolynomialFeatures with degree 2 or 3 or skip\n",
    "    'poly': [PolynomialFeatures(degree=d, include_bias=False) for d in [2, 3]] + ['passthrough'],\n",
    "    \n",
    "    # GaussianNB hyperparameters\n",
    "    'gnb__var_smoothing': loguniform(1e-12, 1e-6),\n",
    "    \n",
    "    # Optionally set priors (currently keeping it as None for simplicity)\n",
    "    'gnb__priors': [None]\n",
    "}\n",
    "\n",
    "# Define the cross-validation strategy\n",
    "cv_strategy = StratifiedKFold(n_splits=100, shuffle=True, random_state=42)\n",
    "\n",
    "# Define a custom precision scorer to handle cases where there might be no positive predictions\n",
    "precision_scorer = make_scorer(precision_score, zero_division=0)\n",
    "\n",
    "# Initialize RandomizedSearchCV\n",
    "random_search = RandomizedSearchCV(\n",
    "    estimator=pipeline,\n",
    "    param_distributions=param_dist,\n",
    "    n_iter=100,             # Number of parameter settings sampled\n",
    "    scoring=precision_scorer,  # Focus on precision\n",
    "    cv=cv_strategy,\n",
    "    verbose=1,\n",
    "    random_state=42,\n",
    "    n_jobs=-1               # Utilize all available CPU cores\n",
    ")\n",
    "\n",
    "# Fit RandomizedSearchCV to the training data\n",
    "random_search.fit(X_train, y_train)\n",
    "\n",
    "# Get the best parameters and best score from RandomizedSearchCV\n",
    "best_params = random_search.best_params_\n",
    "best_precision_cv = random_search.best_score_\n",
    "\n",
    "print(f\"Best Parameters: {best_params}\")\n",
    "print(f\"Best Cross-Validated Precision Score: {best_precision_cv:.4f}\")\n",
    "\n",
    "# Extract the best model\n",
    "gnb_best = random_search.best_estimator_\n",
    "\n",
    "# Make predictions on the test set\n",
    "y_pred_gnb = gnb_best.predict(X_test)\n",
    "\n",
    "# Calculate precision on the test set for GaussianNB\n",
    "test_precision_gnb = precision_score(y_test, y_pred_gnb, zero_division=0)\n",
    "\n",
    "# Make predictions on the training set\n",
    "y_train_pred_gnb = gnb_best.predict(X_train)\n",
    "\n",
    "# Calculate training evaluation metrics\n",
    "train_accuracy_gnb = accuracy_score(y_train, y_train_pred_gnb)\n",
    "train_precision_gnb = precision_score(y_train, y_train_pred_gnb, zero_division=0)\n",
    "train_recall_gnb = recall_score(y_train, y_train_pred_gnb, zero_division=0)\n",
    "train_f1_gnb = f1_score(y_train, y_train_pred_gnb, zero_division=0)\n",
    "\n",
    "# Display Training Metrics\n",
    "print(\"\\nGaussian Naive Bayes Training Performance Metrics:\")\n",
    "print(f\"Accuracy : {train_accuracy_gnb:.4f}\")\n",
    "print(f\"Precision: {train_precision_gnb:.4f}\")\n",
    "print(f\"Recall   : {train_recall_gnb:.4f}\")\n",
    "print(f\"F1-Score : {train_f1_gnb:.4f}\")\n",
    "\n",
    "# Display Test Metrics\n",
    "print(\"\\nGaussian Naive Bayes Test Performance Metrics:\")\n",
    "print(f\"Precision: {test_precision_gnb:.4f}\")\n",
    "\n",
    "# Optional: Display Classification Report and Confusion Matrix for Test Set\n",
    "print(\"\\nClassification Report (Test Set):\")\n",
    "print(classification_report(y_test, y_pred_gnb, zero_division=0))\n",
    "\n",
    "print(\"Confusion Matrix (Test Set):\")\n",
    "print(confusion_matrix(y_test, y_pred_gnb))\n"
   ]
  },
  {
   "cell_type": "markdown",
   "metadata": {},
   "source": [
    "### Training Evaluation\n"
   ]
  },
  {
   "cell_type": "code",
   "execution_count": null,
   "metadata": {},
   "outputs": [],
   "source": [
    "# make predictions on training set\n",
    "y_train_pred_gnb = gnb_best.predict(X_train)\n",
    "\n",
    "# calculate training evaluation metrics\n",
    "train_accuracy_gnb = accuracy_score(y_train, y_train_pred_gnb)\n",
    "train_precision_gnb = precision_score(y_train, y_train_pred_gnb)\n",
    "train_recall_gnb = recall_score(y_train, y_train_pred_gnb)\n",
    "train_f1_gnb = f1_score(y_train, y_train_pred_gnb)\n",
    "\n",
    "# display training metrics\n",
    "print(\"Gaussian Naive Bayes Training Performance Metrics:\")\n",
    "print(f\"Accuracy : {train_accuracy_gnb:.4f}\")\n",
    "print(f\"Precision: {train_precision_gnb:.4f}\")\n",
    "print(f\"Recall   : {train_recall_gnb:.4f}\")\n",
    "print(f\"F1-Score : {train_f1_gnb:.4f}\")"
   ]
  },
  {
   "cell_type": "markdown",
   "metadata": {},
   "source": [
    "### Evaluation - Accuracy, Precision, Recall, F1-Score"
   ]
  },
  {
   "cell_type": "code",
   "execution_count": null,
   "metadata": {},
   "outputs": [],
   "source": [
    "# predict using test set\n",
    "y_pred_gnb = gnb_best.predict(X_test)\n",
    "# predict probabilities for ROC curve\n",
    "y_prob_gnb = gnb_best.predict_proba(X_test)[:, 1]\n",
    "\n",
    "# calculate then display evaluation metrics\n",
    "accuracy_gnb = accuracy_score(y_test, y_pred_gnb)\n",
    "precision_gnb = precision_score(y_test, y_pred_gnb)\n",
    "recall_gnb = recall_score(y_test, y_pred_gnb)\n",
    "f1_gnb = f1_score(y_test, y_pred_gnb)\n",
    "print(\"Gaussian Naive Bayes Performance Metrics:\")\n",
    "print(f\"Accuracy : {accuracy_gnb:.4f}\")\n",
    "print(f\"Precision: {precision_gnb:.4f}\")\n",
    "print(f\"Recall   : {recall_gnb:.4f}\")\n",
    "print(f\"F1-Score : {f1_gnb:.4f}\")\n"
   ]
  },
  {
   "cell_type": "markdown",
   "metadata": {},
   "source": [
    "### Confusion Matrix"
   ]
  },
  {
   "cell_type": "code",
   "execution_count": null,
   "metadata": {},
   "outputs": [],
   "source": [
    "# Generate the confusion matrix\n",
    "cm_gnb = confusion_matrix(y_test, y_pred_gnb)\n",
    "\n",
    "# Plot the confusion matrix\n",
    "plt.figure(figsize=(6,4))\n",
    "sns.heatmap(cm_gnb, annot=True, fmt='d', cmap='Greens', xticklabels=['OFF', 'ON'], yticklabels=['OFF', 'ON'])\n",
    "plt.ylabel('Actual')\n",
    "plt.xlabel('Predicted')\n",
    "plt.title('Confusion Matrix - Gaussian Naive Bayes')\n",
    "plt.show()\n"
   ]
  },
  {
   "cell_type": "markdown",
   "metadata": {},
   "source": [
    "### Classification Report"
   ]
  },
  {
   "cell_type": "code",
   "execution_count": null,
   "metadata": {},
   "outputs": [],
   "source": [
    "print(\"Classification Report - Gaussian Naive Bayes:\")\n",
    "print(classification_report(y_test, y_pred_gnb, target_names=['OFF', 'ON']))\n"
   ]
  },
  {
   "cell_type": "markdown",
   "metadata": {},
   "source": [
    "### ROC Curve"
   ]
  },
  {
   "cell_type": "code",
   "execution_count": null,
   "metadata": {},
   "outputs": [],
   "source": [
    "# Compute ROC curve and AUC\n",
    "fpr_gnb, tpr_gnb, thresholds_gnb = roc_curve(y_test, y_prob_gnb)\n",
    "roc_auc_gnb = auc(fpr_gnb, tpr_gnb)\n",
    "\n",
    "# Plot the ROC curve\n",
    "plt.figure(figsize=(8,6))\n",
    "plt.plot(fpr_gnb, tpr_gnb, color='green', lw=2, label=f'Gaussian Naive Bayes ROC curve (AUC = {roc_auc_gnb:.2f})')\n",
    "plt.plot([0,1], [0,1], color='navy', lw=2, linestyle='--')\n",
    "plt.xlim([0.0, 1.0])\n",
    "plt.ylim([0.0, 1.05])\n",
    "plt.xlabel('False Positive Rate')\n",
    "plt.ylabel('True Positive Rate')\n",
    "plt.title('Receiver Operating Characteristic (ROC) Curve - Gaussian Naive Bayes')\n",
    "plt.legend(loc=\"lower right\")\n",
    "plt.show()\n"
   ]
  },
  {
   "cell_type": "markdown",
   "metadata": {},
   "source": [
    "# All Evaluation"
   ]
  },
  {
   "cell_type": "code",
   "execution_count": null,
   "metadata": {},
   "outputs": [],
   "source": [
    "plt.figure(figsize=(10, 8))\n",
    "plt.plot(fpr_logreg, tpr_logreg, color='darkorange', lw=2, label=f'Logistic Regression (AUC = {roc_auc_logreg:.2f})')\n",
    "plt.plot(fpr_rf, tpr_rf, color='blue', lw=2, label=f'Random Forest (AUC = {roc_auc_rf:.2f})')\n",
    "plt.plot(fpr_gnb, tpr_gnb, color='green', lw=2, label=f'Gaussian Naive Bayes (AUC = {roc_auc_gnb:.2f})')\n",
    "plt.plot([0, 1], [0, 1], color='navy', lw=2, linestyle='--')\n",
    "plt.xlim([0.0, 1.0])\n",
    "plt.ylim([0.0, 1.05])\n",
    "plt.xlabel('False Positive Rate')\n",
    "plt.ylabel('True Positive Rate')\n",
    "plt.title('Receiver Operating Characteristic (ROC) Curves')\n",
    "plt.legend(loc=\"lower right\")\n",
    "plt.show()\n"
   ]
  },
  {
   "cell_type": "code",
   "execution_count": null,
   "metadata": {},
   "outputs": [],
   "source": []
  },
  {
   "cell_type": "code",
   "execution_count": null,
   "metadata": {},
   "outputs": [],
   "source": []
  }
 ],
 "metadata": {
  "kernelspec": {
   "display_name": "Python 3 (ipykernel)",
   "language": "python",
   "name": "python3"
  },
  "language_info": {
   "codemirror_mode": {
    "name": "ipython",
    "version": 3
   },
   "file_extension": ".py",
   "mimetype": "text/x-python",
   "name": "python",
   "nbconvert_exporter": "python",
   "pygments_lexer": "ipython3",
   "version": "3.8.20"
  }
 },
 "nbformat": 4,
 "nbformat_minor": 4
}
