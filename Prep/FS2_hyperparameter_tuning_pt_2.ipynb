{
 "cells": [
  {
   "cell_type": "markdown",
   "id": "7d4cabcb-e735-42da-8ca0-ffa1b8d6a326",
   "metadata": {},
   "source": [
    "# Hyperparameter Tuning Using Feature Set 2\n",
    "\n",
    "---\n",
    "\n",
    "**Feature Set 2** includes:\n",
    "\n",
    "- **Soil Moisture**\n",
    "- **Temperature**\n",
    "- **Soil Humidity**\n",
    "- **Air temperature (C)**\n",
    "- **Wind speed (Km/h)**\n",
    "- **Pressure (KPa)**\n",
    "\n",
    "The dataset used for this analysis is available [here](https://www.kaggle.com/datasets/nelakurthisudheer/dataset-for-predicting-watering-the-plants)."
   ]
  },
  {
   "cell_type": "code",
   "execution_count": 4,
   "id": "7e0d9e32-250f-4e98-8068-279c0fdce1d5",
   "metadata": {},
   "outputs": [],
   "source": [
    "import pandas as pd\n",
    "import numpy as np\n",
    "import matplotlib.pyplot as plt\n",
    "import seaborn as sns\n",
    "\n",
    "from sklearn.model_selection import train_test_split\n",
    "from sklearn.linear_model import LogisticRegression\n",
    "from sklearn.naive_bayes import GaussianNB\n",
    "from sklearn.ensemble import RandomForestClassifier\n",
    "from sklearn.metrics import (\n",
    "    accuracy_score, \n",
    "    precision_score, \n",
    "    recall_score, \n",
    "    f1_score, \n",
    "    confusion_matrix, \n",
    "    classification_report, \n",
    "    roc_curve, \n",
    "    auc\n",
    ")\n",
    "\n",
    "# For handling warnings\n",
    "import warnings\n",
    "warnings.filterwarnings('ignore')"
   ]
  },
  {
   "cell_type": "markdown",
   "id": "337712cf-cd8c-4f03-b5bf-8179fa944a71",
   "metadata": {},
   "source": [
    "# Data Preparation and Feature Selection"
   ]
  },
  {
   "cell_type": "code",
   "execution_count": 7,
   "id": "164a7519-1205-4e83-99fc-42cdbed8fa4e",
   "metadata": {},
   "outputs": [],
   "source": [
    "df = pd.read_csv('soil_data.csv')\n",
    "required_columns = ['Soil Moisture', 'Temperature', 'Soil Humidity', 'Air temperature (C)', 'Wind speed (Km/h)', 'Pressure (KPa)', 'Status']\n",
    "df = df.dropna(subset=required_columns)\n",
    "df['Status'] = df['Status'].map({'OFF': 0, 'ON': 1})\n",
    "\n",
    "fs2 = ['Soil Moisture', 'Temperature', 'Soil Humidity', 'Air temperature (C)', 'Wind speed (Km/h)', 'Pressure (KPa)'] \n",
    "\n",
    "X = df[fs2]\n",
    "y = df['Status']"
   ]
  },
  {
   "cell_type": "code",
   "execution_count": 9,
   "id": "79e82198-8685-4f6d-a289-0d48b24abea7",
   "metadata": {},
   "outputs": [
    {
     "name": "stdout",
     "output_type": "stream",
     "text": [
      "Training set size: 16796 samples\n",
      "Evaluation set size: 7199 samples\n"
     ]
    }
   ],
   "source": [
    "X_train, X_test, y_train, y_test = train_test_split(\n",
    "    X, y, \n",
    "    test_size=0.3, \n",
    "    random_state=42, \n",
    "    stratify=y\n",
    ")\n",
    "\n",
    "print(f\"Training set size: {X_train.shape[0]} samples\")\n",
    "print(f\"Evaluation set size: {X_test.shape[0]} samples\")"
   ]
  },
  {
   "cell_type": "markdown",
   "id": "f090ecef-4c60-4fb7-ab37-a0cdbb21c724",
   "metadata": {},
   "source": [
    "## Logistic Regression\n",
    "### Tuning hyperparameters\n",
    "For logistic regression, the main hyperparameters that are tuned are solver, penalty, and regularization strength"
   ]
  },
  {
   "cell_type": "code",
   "execution_count": 16,
   "id": "09261292-cb60-4471-8ed7-6cd9bbaac646",
   "metadata": {},
   "outputs": [
    {
     "name": "stdout",
     "output_type": "stream",
     "text": [
      "Best: 0.701591 using {'C': 0.1, 'penalty': 'l2', 'solver': 'newton-cg'}\n",
      "0.701522 (0.009796) with: {'C': 100, 'penalty': 'l2', 'solver': 'newton-cg'}\n",
      "0.701272 (0.009827) with: {'C': 100, 'penalty': 'l2', 'solver': 'lbfgs'}\n",
      "0.701272 (0.009827) with: {'C': 100, 'penalty': 'l2', 'solver': 'liblinear'}\n",
      "0.701536 (0.009814) with: {'C': 10, 'penalty': 'l2', 'solver': 'newton-cg'}\n",
      "0.701272 (0.009827) with: {'C': 10, 'penalty': 'l2', 'solver': 'lbfgs'}\n",
      "0.701272 (0.009827) with: {'C': 10, 'penalty': 'l2', 'solver': 'liblinear'}\n",
      "0.701536 (0.009840) with: {'C': 1.0, 'penalty': 'l2', 'solver': 'newton-cg'}\n",
      "0.701272 (0.009827) with: {'C': 1.0, 'penalty': 'l2', 'solver': 'lbfgs'}\n",
      "0.701272 (0.009827) with: {'C': 1.0, 'penalty': 'l2', 'solver': 'liblinear'}\n",
      "0.701591 (0.009784) with: {'C': 0.1, 'penalty': 'l2', 'solver': 'newton-cg'}\n",
      "0.701272 (0.009827) with: {'C': 0.1, 'penalty': 'l2', 'solver': 'lbfgs'}\n",
      "0.701272 (0.009827) with: {'C': 0.1, 'penalty': 'l2', 'solver': 'liblinear'}\n",
      "0.701369 (0.009604) with: {'C': 0.01, 'penalty': 'l2', 'solver': 'newton-cg'}\n",
      "0.701258 (0.009842) with: {'C': 0.01, 'penalty': 'l2', 'solver': 'lbfgs'}\n",
      "0.701272 (0.009827) with: {'C': 0.01, 'penalty': 'l2', 'solver': 'liblinear'}\n"
     ]
    }
   ],
   "source": [
    "from sklearn.model_selection import RepeatedStratifiedKFold\n",
    "from sklearn.model_selection import GridSearchCV\n",
    "\n",
    "logreg = LogisticRegression()\n",
    "solvers = ['newton-cg', 'lbfgs', 'liblinear']\n",
    "penalty = ['l2']\n",
    "c_values = [100, 10, 1.0, 0.1, 0.01]\n",
    "\n",
    "\n",
    "# define grid search\n",
    "grid = dict(solver=solvers,penalty=penalty,C=c_values)\n",
    "cv = RepeatedStratifiedKFold(n_splits=10, n_repeats=3, random_state=1)\n",
    "grid_search = GridSearchCV(estimator=logreg, param_grid=grid, n_jobs=-1, cv=cv, scoring='accuracy',error_score=0)\n",
    "grid_result = grid_search.fit(X, y)\n",
    "\n",
    "\n",
    "# summarize results\n",
    "print(\"Best: %f using %s\" % (grid_result.best_score_, grid_result.best_params_))\n",
    "means = grid_result.cv_results_['mean_test_score']\n",
    "stds = grid_result.cv_results_['std_test_score']\n",
    "params = grid_result.cv_results_['params']\n",
    "for mean, stdev, param in zip(means, stds, params):\n",
    "    print(\"%f (%f) with: %r\" % (mean, stdev, param))"
   ]
  }
 ],
 "metadata": {
  "kernelspec": {
   "display_name": "Python 3 (ipykernel)",
   "language": "python",
   "name": "python3"
  },
  "language_info": {
   "codemirror_mode": {
    "name": "ipython",
    "version": 3
   },
   "file_extension": ".py",
   "mimetype": "text/x-python",
   "name": "python",
   "nbconvert_exporter": "python",
   "pygments_lexer": "ipython3",
   "version": "3.8.20"
  }
 },
 "nbformat": 4,
 "nbformat_minor": 5
}
